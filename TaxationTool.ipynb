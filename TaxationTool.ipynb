{
 "cells": [
  {
   "cell_type": "code",
   "id": "initial_id",
   "metadata": {
    "collapsed": true,
    "ExecuteTime": {
     "end_time": "2024-11-27T19:33:09.344111Z",
     "start_time": "2024-11-27T19:33:08.788888Z"
    }
   },
   "source": [
    "# %reload_ext autoreload\n",
    "# %autoreload all\n",
    "\n",
    "from pathlib import Path\n",
    "\n",
    "import pandas as pd\n",
    "\n",
    "from src.objects import TaxationList, TopographicPlan\n",
    "from src.processing.topographic_plan import create_topographic_plan\n",
    "from src.processing.taxation_list import create_taxation_list"
   ],
   "outputs": [],
   "execution_count": 1
  },
  {
   "metadata": {},
   "cell_type": "markdown",
   "source": "Константы для чтения объектов из dxf файла",
   "id": "b5d3a646d77529b5"
  },
  {
   "metadata": {
    "ExecuteTime": {
     "end_time": "2024-11-27T19:33:09.954852Z",
     "start_time": "2024-11-27T19:33:09.951728Z"
    }
   },
   "cell_type": "code",
   "source": [
    "NUMBERS_LAYERS = [\"номера\"]\n",
    "LINES_LAYERS = [\"полосы\"]\n",
    "CONTOURS_LAYERS = [\"контуры\"]\n",
    "MIN_DISTANCE = 0.01"
   ],
   "id": "9b63070281a49f89",
   "outputs": [],
   "execution_count": 2
  },
  {
   "metadata": {},
   "cell_type": "markdown",
   "source": "Чтение dxf файла топографического чертежа и создание объекта топографического плана",
   "id": "157455f6c4393d2c"
  },
  {
   "metadata": {
    "ExecuteTime": {
     "end_time": "2024-11-27T19:33:10.945740Z",
     "start_time": "2024-11-27T19:33:10.884568Z"
    }
   },
   "cell_type": "code",
   "source": [
    "topographic_plan = create_topographic_plan(\n",
    "    Path(\"data/example_topographic_plan.dxf\"),\n",
    "    NUMBERS_LAYERS, LINES_LAYERS, CONTOURS_LAYERS, MIN_DISTANCE)"
   ],
   "id": "75de54d6a4df362f",
   "outputs": [],
   "execution_count": 3
  },
  {
   "metadata": {},
   "cell_type": "markdown",
   "source": "Проверка вхождения номеров в фигуры",
   "id": "d1de719a829120c5"
  },
  {
   "metadata": {
    "ExecuteTime": {
     "end_time": "2024-11-27T19:40:13.022863Z",
     "start_time": "2024-11-27T19:40:13.009843Z"
    }
   },
   "cell_type": "code",
   "source": [
    "_numbers_shapes_df = pd.DataFrame(columns=['number_id', 'shape_id', 'number', 'type', 'geometry'])\n",
    "\n",
    "for _, ids_row in topographic_plan._numbers_shapes_df.iterrows():\n",
    "    number_id = ids_row['number_id']\n",
    "    shape_id = ids_row['shape_id']\n",
    "    number = topographic_plan._numbers_df.loc[number_id, 'number']\n",
    "    shape_type = topographic_plan._shapes_df.loc[shape_id, 'type']\n",
    "    shape_geom = topographic_plan._shapes_df.loc[shape_id, 'geometry']\n",
    "\n",
    "    _numbers_shapes_df = pd.concat([\n",
    "        _numbers_shapes_df,\n",
    "        pd.DataFrame({\n",
    "            'number_id': [number_id],\n",
    "            'shape_id': [shape_id],\n",
    "            'number': [number], \n",
    "            'type': [shape_type],\n",
    "            'geometry': [shape_geom]\n",
    "        })\n",
    "    ], ignore_index=True)\n",
    "\n",
    "_numbers_shapes_df"
   ],
   "id": "556415ec2cac4d87",
   "outputs": [
    {
     "data": {
      "text/plain": [
       "  number_id shape_id number        type  \\\n",
       "0        14        0     15  LineString   \n",
       "1        15        1     16  LineString   \n",
       "2        12        2      8     Polygon   \n",
       "3        13        2      9     Polygon   \n",
       "4         0        3      1     Polygon   \n",
       "5         1        3      2     Polygon   \n",
       "6        16        4     17     Polygon   \n",
       "\n",
       "                                            geometry  \n",
       "0  LINESTRING (3092.268998306507 1693.40414713145...  \n",
       "1  LINESTRING (3099.275403871401 1706.81442616184...  \n",
       "2  POLYGON ((3106.916523995033 1690.249262830753,...  \n",
       "3  POLYGON ((3106.916523995033 1690.249262830753,...  \n",
       "4  POLYGON ((3075.045526933311 1693.259229309259,...  \n",
       "5  POLYGON ((3075.045526933311 1693.259229309259,...  \n",
       "6  POLYGON ((3106.496601561342 1689.562929311654,...  "
      ],
      "text/html": [
       "<div>\n",
       "<style scoped>\n",
       "    .dataframe tbody tr th:only-of-type {\n",
       "        vertical-align: middle;\n",
       "    }\n",
       "\n",
       "    .dataframe tbody tr th {\n",
       "        vertical-align: top;\n",
       "    }\n",
       "\n",
       "    .dataframe thead th {\n",
       "        text-align: right;\n",
       "    }\n",
       "</style>\n",
       "<table border=\"1\" class=\"dataframe\">\n",
       "  <thead>\n",
       "    <tr style=\"text-align: right;\">\n",
       "      <th></th>\n",
       "      <th>number_id</th>\n",
       "      <th>shape_id</th>\n",
       "      <th>number</th>\n",
       "      <th>type</th>\n",
       "      <th>geometry</th>\n",
       "    </tr>\n",
       "  </thead>\n",
       "  <tbody>\n",
       "    <tr>\n",
       "      <th>0</th>\n",
       "      <td>14</td>\n",
       "      <td>0</td>\n",
       "      <td>15</td>\n",
       "      <td>LineString</td>\n",
       "      <td>LINESTRING (3092.268998306507 1693.40414713145...</td>\n",
       "    </tr>\n",
       "    <tr>\n",
       "      <th>1</th>\n",
       "      <td>15</td>\n",
       "      <td>1</td>\n",
       "      <td>16</td>\n",
       "      <td>LineString</td>\n",
       "      <td>LINESTRING (3099.275403871401 1706.81442616184...</td>\n",
       "    </tr>\n",
       "    <tr>\n",
       "      <th>2</th>\n",
       "      <td>12</td>\n",
       "      <td>2</td>\n",
       "      <td>8</td>\n",
       "      <td>Polygon</td>\n",
       "      <td>POLYGON ((3106.916523995033 1690.249262830753,...</td>\n",
       "    </tr>\n",
       "    <tr>\n",
       "      <th>3</th>\n",
       "      <td>13</td>\n",
       "      <td>2</td>\n",
       "      <td>9</td>\n",
       "      <td>Polygon</td>\n",
       "      <td>POLYGON ((3106.916523995033 1690.249262830753,...</td>\n",
       "    </tr>\n",
       "    <tr>\n",
       "      <th>4</th>\n",
       "      <td>0</td>\n",
       "      <td>3</td>\n",
       "      <td>1</td>\n",
       "      <td>Polygon</td>\n",
       "      <td>POLYGON ((3075.045526933311 1693.259229309259,...</td>\n",
       "    </tr>\n",
       "    <tr>\n",
       "      <th>5</th>\n",
       "      <td>1</td>\n",
       "      <td>3</td>\n",
       "      <td>2</td>\n",
       "      <td>Polygon</td>\n",
       "      <td>POLYGON ((3075.045526933311 1693.259229309259,...</td>\n",
       "    </tr>\n",
       "    <tr>\n",
       "      <th>6</th>\n",
       "      <td>16</td>\n",
       "      <td>4</td>\n",
       "      <td>17</td>\n",
       "      <td>Polygon</td>\n",
       "      <td>POLYGON ((3106.496601561342 1689.562929311654,...</td>\n",
       "    </tr>\n",
       "  </tbody>\n",
       "</table>\n",
       "</div>"
      ]
     },
     "execution_count": 9,
     "metadata": {},
     "output_type": "execute_result"
    }
   ],
   "execution_count": 9
  },
  {
   "metadata": {},
   "cell_type": "markdown",
   "source": "Проверка пересечения number_id между _trees_df и numbers_shapes_df",
   "id": "7cb1ca291deac490"
  },
  {
   "metadata": {
    "ExecuteTime": {
     "end_time": "2024-11-27T19:42:39.006096Z",
     "start_time": "2024-11-27T19:42:39.002588Z"
    }
   },
   "cell_type": "code",
   "source": [
    "trees_number_ids = set(topographic_plan._trees_df['number_id'])\n",
    "shapes_number_ids = set(_numbers_shapes_df['number_id'])\n",
    "\n",
    "if len(trees_number_ids.intersection(shapes_number_ids)) > 0:\n",
    "    raise ValueError(\"Обнаружено пересечение number_id между деревьями и фигурами\")"
   ],
   "id": "8626e941cb56f2a9",
   "outputs": [],
   "execution_count": 10
  },
  {
   "metadata": {},
   "cell_type": "markdown",
   "source": "Проверка, что все number_id из _numbers_df присутствуют либо в _trees_df либо в numbers_shapes_df",
   "id": "36de641612df4467"
  },
  {
   "metadata": {
    "ExecuteTime": {
     "end_time": "2024-11-27T19:42:40.544614Z",
     "start_time": "2024-11-27T19:42:40.541563Z"
    }
   },
   "cell_type": "code",
   "source": [
    "all_numbers_ids = set(topographic_plan._numbers_df.index)\n",
    "used_number_ids = trees_number_ids.union(shapes_number_ids)\n",
    "\n",
    "if len(all_numbers_ids - used_number_ids) > 0:\n",
    "    raise ValueError(\"Обнаружены number_id, которые не используются ни в деревьях, ни в фигурах\")"
   ],
   "id": "cb53bcc037a9256e",
   "outputs": [],
   "execution_count": 11
  },
  {
   "metadata": {},
   "cell_type": "markdown",
   "source": "Константы для чтения ведомости таксации",
   "id": "1ef017bb186de1ad"
  },
  {
   "metadata": {
    "ExecuteTime": {
     "end_time": "2024-11-27T19:35:54.084540Z",
     "start_time": "2024-11-27T19:35:54.081822Z"
    }
   },
   "cell_type": "code",
   "source": [
    "IS_IMPORT_FIRST_ROW = False\n",
    "NUMBER_COLUMN = 0\n",
    "NAME_COLUMN = 1\n",
    "QUANTITY_COLUMN = 2\n",
    "HEIGHT_COLUMN = 3\n",
    "DIAMETER_COLUMN = 4\n",
    "QUALITY_COLUMN = 5"
   ],
   "id": "ca699dd8290e0cc9",
   "outputs": [],
   "execution_count": 7
  },
  {
   "metadata": {},
   "cell_type": "markdown",
   "source": "Чтение docx или xls ведомости таксации и создание объекта ведомости таксации",
   "id": "367403eda87c0014"
  },
  {
   "metadata": {
    "ExecuteTime": {
     "end_time": "2024-11-27T19:35:55.327253Z",
     "start_time": "2024-11-27T19:35:54.988966Z"
    }
   },
   "cell_type": "code",
   "source": [
    "taxation_list_file = Path(r\"C:\\geowork\\2024\\Шарковщина\\122.24 ЖД Шарковщина\\122.24 Таксация.docx\")\n",
    "\n",
    "taxation_list = create_taxation_list(\n",
    "    taxation_list_file,\n",
    "    is_import_first_row=False,\n",
    "    column_mapping={\n",
    "        'number': NUMBER_COLUMN,\n",
    "        'name': NAME_COLUMN,\n",
    "        'quantity': QUANTITY_COLUMN,\n",
    "        'height': HEIGHT_COLUMN,\n",
    "        'diameter': DIAMETER_COLUMN,\n",
    "        'quality': QUALITY_COLUMN\n",
    "    }\n",
    ")\n",
    "taxation_list.table_data"
   ],
   "id": "79ac86e4dfe2c24b",
   "outputs": [
    {
     "ename": "KeyError",
     "evalue": "\"['splitted_number'] not in index\"",
     "output_type": "error",
     "traceback": [
      "\u001B[1;31m---------------------------------------------------------------------------\u001B[0m",
      "\u001B[1;31mKeyError\u001B[0m                                  Traceback (most recent call last)",
      "Cell \u001B[1;32mIn[8], line 3\u001B[0m\n\u001B[0;32m      1\u001B[0m taxation_list_file \u001B[38;5;241m=\u001B[39m Path(\u001B[38;5;124mr\u001B[39m\u001B[38;5;124m\"\u001B[39m\u001B[38;5;124mC:\u001B[39m\u001B[38;5;124m\\\u001B[39m\u001B[38;5;124mgeowork\u001B[39m\u001B[38;5;124m\\\u001B[39m\u001B[38;5;124m2024\u001B[39m\u001B[38;5;124m\\\u001B[39m\u001B[38;5;124mШарковщина\u001B[39m\u001B[38;5;124m\\\u001B[39m\u001B[38;5;124m122.24 ЖД Шарковщина\u001B[39m\u001B[38;5;124m\\\u001B[39m\u001B[38;5;124m122.24 Таксация.docx\u001B[39m\u001B[38;5;124m\"\u001B[39m)\n\u001B[1;32m----> 3\u001B[0m taxation_list \u001B[38;5;241m=\u001B[39m \u001B[43mcreate_taxation_list\u001B[49m\u001B[43m(\u001B[49m\n\u001B[0;32m      4\u001B[0m \u001B[43m    \u001B[49m\u001B[43mtaxation_list_file\u001B[49m\u001B[43m,\u001B[49m\n\u001B[0;32m      5\u001B[0m \u001B[43m    \u001B[49m\u001B[43mis_import_first_row\u001B[49m\u001B[38;5;241;43m=\u001B[39;49m\u001B[38;5;28;43;01mFalse\u001B[39;49;00m\u001B[43m,\u001B[49m\n\u001B[0;32m      6\u001B[0m \u001B[43m    \u001B[49m\u001B[43mcolumn_mapping\u001B[49m\u001B[38;5;241;43m=\u001B[39;49m\u001B[43m{\u001B[49m\n\u001B[0;32m      7\u001B[0m \u001B[43m        \u001B[49m\u001B[38;5;124;43m'\u001B[39;49m\u001B[38;5;124;43mnumber\u001B[39;49m\u001B[38;5;124;43m'\u001B[39;49m\u001B[43m:\u001B[49m\u001B[43m \u001B[49m\u001B[43mNUMBER_COLUMN\u001B[49m\u001B[43m,\u001B[49m\n\u001B[0;32m      8\u001B[0m \u001B[43m        \u001B[49m\u001B[38;5;124;43m'\u001B[39;49m\u001B[38;5;124;43mname\u001B[39;49m\u001B[38;5;124;43m'\u001B[39;49m\u001B[43m:\u001B[49m\u001B[43m \u001B[49m\u001B[43mNAME_COLUMN\u001B[49m\u001B[43m,\u001B[49m\n\u001B[0;32m      9\u001B[0m \u001B[43m        \u001B[49m\u001B[38;5;124;43m'\u001B[39;49m\u001B[38;5;124;43mquantity\u001B[39;49m\u001B[38;5;124;43m'\u001B[39;49m\u001B[43m:\u001B[49m\u001B[43m \u001B[49m\u001B[43mQUANTITY_COLUMN\u001B[49m\u001B[43m,\u001B[49m\n\u001B[0;32m     10\u001B[0m \u001B[43m        \u001B[49m\u001B[38;5;124;43m'\u001B[39;49m\u001B[38;5;124;43mheight\u001B[39;49m\u001B[38;5;124;43m'\u001B[39;49m\u001B[43m:\u001B[49m\u001B[43m \u001B[49m\u001B[43mHEIGHT_COLUMN\u001B[49m\u001B[43m,\u001B[49m\n\u001B[0;32m     11\u001B[0m \u001B[43m        \u001B[49m\u001B[38;5;124;43m'\u001B[39;49m\u001B[38;5;124;43mdiameter\u001B[39;49m\u001B[38;5;124;43m'\u001B[39;49m\u001B[43m:\u001B[49m\u001B[43m \u001B[49m\u001B[43mDIAMETER_COLUMN\u001B[49m\u001B[43m,\u001B[49m\n\u001B[0;32m     12\u001B[0m \u001B[43m        \u001B[49m\u001B[38;5;124;43m'\u001B[39;49m\u001B[38;5;124;43mquality\u001B[39;49m\u001B[38;5;124;43m'\u001B[39;49m\u001B[43m:\u001B[49m\u001B[43m \u001B[49m\u001B[43mQUALITY_COLUMN\u001B[49m\n\u001B[0;32m     13\u001B[0m \u001B[43m    \u001B[49m\u001B[43m}\u001B[49m\n\u001B[0;32m     14\u001B[0m \u001B[43m)\u001B[49m\n\u001B[0;32m     15\u001B[0m taxation_list\u001B[38;5;241m.\u001B[39mtable_data\n",
      "File \u001B[1;32mC:\\Projects\\TaxationTool\\src\\processing\\taxation_list.py:112\u001B[0m, in \u001B[0;36mcreate_taxation_list\u001B[1;34m(file_path, is_import_first_row, column_mapping)\u001B[0m\n\u001B[0;32m    109\u001B[0m             processed_row\u001B[38;5;241m.\u001B[39mappend(row[col_idx] \u001B[38;5;28;01mif\u001B[39;00m col_idx \u001B[38;5;241m<\u001B[39m \u001B[38;5;28mlen\u001B[39m(row) \u001B[38;5;28;01melse\u001B[39;00m \u001B[38;5;124m'\u001B[39m\u001B[38;5;124m'\u001B[39m)\n\u001B[0;32m    110\u001B[0m         processed_data\u001B[38;5;241m.\u001B[39mappend(processed_row)\n\u001B[1;32m--> 112\u001B[0m \u001B[38;5;28;01mreturn\u001B[39;00m \u001B[43m_create_taxation_list\u001B[49m\u001B[43m(\u001B[49m\u001B[43mprocessed_data\u001B[49m\u001B[43m)\u001B[49m\n",
      "File \u001B[1;32mC:\\Projects\\TaxationTool\\src\\processing\\taxation_list.py:55\u001B[0m, in \u001B[0;36m_create_taxation_list\u001B[1;34m(table_data)\u001B[0m\n\u001B[0;32m     52\u001B[0m taxation_list\u001B[38;5;241m.\u001B[39msplitted_numbers_df \u001B[38;5;241m=\u001B[39m pd\u001B[38;5;241m.\u001B[39mDataFrame(splitted_numbers)\n\u001B[0;32m     54\u001B[0m \u001B[38;5;66;03m# Формируем итоговую таблицу\u001B[39;00m\n\u001B[1;32m---> 55\u001B[0m taxation_list\u001B[38;5;241m.\u001B[39mtable_data \u001B[38;5;241m=\u001B[39m \u001B[43mtaxation_list\u001B[49m\u001B[38;5;241;43m.\u001B[39;49m\u001B[43msplitted_numbers_df\u001B[49m\u001B[43m[\u001B[49m\u001B[43m[\u001B[49m\n\u001B[0;32m     56\u001B[0m \u001B[43m    \u001B[49m\u001B[38;5;124;43m'\u001B[39;49m\u001B[38;5;124;43msplitted_number\u001B[39;49m\u001B[38;5;124;43m'\u001B[39;49m\u001B[43m,\u001B[49m\u001B[43m \u001B[49m\u001B[38;5;124;43m'\u001B[39;49m\u001B[38;5;124;43moriginal_number\u001B[39;49m\u001B[38;5;124;43m'\u001B[39;49m\u001B[43m,\u001B[49m\u001B[43m \u001B[49m\u001B[38;5;124;43m'\u001B[39;49m\u001B[38;5;124;43mname\u001B[39;49m\u001B[38;5;124;43m'\u001B[39;49m\u001B[43m,\u001B[49m\u001B[43m \u001B[49m\u001B[38;5;124;43m'\u001B[39;49m\u001B[38;5;124;43mquantity\u001B[39;49m\u001B[38;5;124;43m'\u001B[39;49m\u001B[43m,\u001B[49m\u001B[43m \u001B[49m\u001B[38;5;124;43m'\u001B[39;49m\u001B[38;5;124;43mheight\u001B[39;49m\u001B[38;5;124;43m'\u001B[39;49m\u001B[43m,\u001B[49m\u001B[43m \u001B[49m\u001B[38;5;124;43m'\u001B[39;49m\u001B[38;5;124;43mdiameter\u001B[39;49m\u001B[38;5;124;43m'\u001B[39;49m\u001B[43m,\u001B[49m\u001B[43m \u001B[49m\u001B[38;5;124;43m'\u001B[39;49m\u001B[38;5;124;43mquality\u001B[39;49m\u001B[38;5;124;43m'\u001B[39;49m\n\u001B[0;32m     57\u001B[0m \u001B[43m\u001B[49m\u001B[43m]\u001B[49m\u001B[43m]\u001B[49m\u001B[38;5;241m.\u001B[39mcopy()\n\u001B[0;32m     59\u001B[0m \u001B[38;5;66;03m# Переименовываем колонку original_number в number\u001B[39;00m\n\u001B[0;32m     60\u001B[0m taxation_list\u001B[38;5;241m.\u001B[39mtable_data \u001B[38;5;241m=\u001B[39m taxation_list\u001B[38;5;241m.\u001B[39mtable_data\u001B[38;5;241m.\u001B[39mrename(\n\u001B[0;32m     61\u001B[0m     columns\u001B[38;5;241m=\u001B[39m{\u001B[38;5;124m'\u001B[39m\u001B[38;5;124moriginal_number\u001B[39m\u001B[38;5;124m'\u001B[39m: \u001B[38;5;124m'\u001B[39m\u001B[38;5;124mnumber\u001B[39m\u001B[38;5;124m'\u001B[39m}\n\u001B[0;32m     62\u001B[0m )\n",
      "File \u001B[1;32mC:\\Projects\\TaxationTool\\venv\\Lib\\site-packages\\pandas\\core\\frame.py:4108\u001B[0m, in \u001B[0;36mDataFrame.__getitem__\u001B[1;34m(self, key)\u001B[0m\n\u001B[0;32m   4106\u001B[0m     \u001B[38;5;28;01mif\u001B[39;00m is_iterator(key):\n\u001B[0;32m   4107\u001B[0m         key \u001B[38;5;241m=\u001B[39m \u001B[38;5;28mlist\u001B[39m(key)\n\u001B[1;32m-> 4108\u001B[0m     indexer \u001B[38;5;241m=\u001B[39m \u001B[38;5;28;43mself\u001B[39;49m\u001B[38;5;241;43m.\u001B[39;49m\u001B[43mcolumns\u001B[49m\u001B[38;5;241;43m.\u001B[39;49m\u001B[43m_get_indexer_strict\u001B[49m\u001B[43m(\u001B[49m\u001B[43mkey\u001B[49m\u001B[43m,\u001B[49m\u001B[43m \u001B[49m\u001B[38;5;124;43m\"\u001B[39;49m\u001B[38;5;124;43mcolumns\u001B[39;49m\u001B[38;5;124;43m\"\u001B[39;49m\u001B[43m)\u001B[49m[\u001B[38;5;241m1\u001B[39m]\n\u001B[0;32m   4110\u001B[0m \u001B[38;5;66;03m# take() does not accept boolean indexers\u001B[39;00m\n\u001B[0;32m   4111\u001B[0m \u001B[38;5;28;01mif\u001B[39;00m \u001B[38;5;28mgetattr\u001B[39m(indexer, \u001B[38;5;124m\"\u001B[39m\u001B[38;5;124mdtype\u001B[39m\u001B[38;5;124m\"\u001B[39m, \u001B[38;5;28;01mNone\u001B[39;00m) \u001B[38;5;241m==\u001B[39m \u001B[38;5;28mbool\u001B[39m:\n",
      "File \u001B[1;32mC:\\Projects\\TaxationTool\\venv\\Lib\\site-packages\\pandas\\core\\indexes\\base.py:6200\u001B[0m, in \u001B[0;36mIndex._get_indexer_strict\u001B[1;34m(self, key, axis_name)\u001B[0m\n\u001B[0;32m   6197\u001B[0m \u001B[38;5;28;01melse\u001B[39;00m:\n\u001B[0;32m   6198\u001B[0m     keyarr, indexer, new_indexer \u001B[38;5;241m=\u001B[39m \u001B[38;5;28mself\u001B[39m\u001B[38;5;241m.\u001B[39m_reindex_non_unique(keyarr)\n\u001B[1;32m-> 6200\u001B[0m \u001B[38;5;28;43mself\u001B[39;49m\u001B[38;5;241;43m.\u001B[39;49m\u001B[43m_raise_if_missing\u001B[49m\u001B[43m(\u001B[49m\u001B[43mkeyarr\u001B[49m\u001B[43m,\u001B[49m\u001B[43m \u001B[49m\u001B[43mindexer\u001B[49m\u001B[43m,\u001B[49m\u001B[43m \u001B[49m\u001B[43maxis_name\u001B[49m\u001B[43m)\u001B[49m\n\u001B[0;32m   6202\u001B[0m keyarr \u001B[38;5;241m=\u001B[39m \u001B[38;5;28mself\u001B[39m\u001B[38;5;241m.\u001B[39mtake(indexer)\n\u001B[0;32m   6203\u001B[0m \u001B[38;5;28;01mif\u001B[39;00m \u001B[38;5;28misinstance\u001B[39m(key, Index):\n\u001B[0;32m   6204\u001B[0m     \u001B[38;5;66;03m# GH 42790 - Preserve name from an Index\u001B[39;00m\n",
      "File \u001B[1;32mC:\\Projects\\TaxationTool\\venv\\Lib\\site-packages\\pandas\\core\\indexes\\base.py:6252\u001B[0m, in \u001B[0;36mIndex._raise_if_missing\u001B[1;34m(self, key, indexer, axis_name)\u001B[0m\n\u001B[0;32m   6249\u001B[0m     \u001B[38;5;28;01mraise\u001B[39;00m \u001B[38;5;167;01mKeyError\u001B[39;00m(\u001B[38;5;124mf\u001B[39m\u001B[38;5;124m\"\u001B[39m\u001B[38;5;124mNone of [\u001B[39m\u001B[38;5;132;01m{\u001B[39;00mkey\u001B[38;5;132;01m}\u001B[39;00m\u001B[38;5;124m] are in the [\u001B[39m\u001B[38;5;132;01m{\u001B[39;00maxis_name\u001B[38;5;132;01m}\u001B[39;00m\u001B[38;5;124m]\u001B[39m\u001B[38;5;124m\"\u001B[39m)\n\u001B[0;32m   6251\u001B[0m not_found \u001B[38;5;241m=\u001B[39m \u001B[38;5;28mlist\u001B[39m(ensure_index(key)[missing_mask\u001B[38;5;241m.\u001B[39mnonzero()[\u001B[38;5;241m0\u001B[39m]]\u001B[38;5;241m.\u001B[39munique())\n\u001B[1;32m-> 6252\u001B[0m \u001B[38;5;28;01mraise\u001B[39;00m \u001B[38;5;167;01mKeyError\u001B[39;00m(\u001B[38;5;124mf\u001B[39m\u001B[38;5;124m\"\u001B[39m\u001B[38;5;132;01m{\u001B[39;00mnot_found\u001B[38;5;132;01m}\u001B[39;00m\u001B[38;5;124m not in index\u001B[39m\u001B[38;5;124m\"\u001B[39m)\n",
      "\u001B[1;31mKeyError\u001B[0m: \"['splitted_number'] not in index\""
     ]
    }
   ],
   "execution_count": 8
  }
 ],
 "metadata": {
  "kernelspec": {
   "display_name": "Python 3",
   "language": "python",
   "name": "python3"
  },
  "language_info": {
   "codemirror_mode": {
    "name": "ipython",
    "version": 2
   },
   "file_extension": ".py",
   "mimetype": "text/x-python",
   "name": "python",
   "nbconvert_exporter": "python",
   "pygments_lexer": "ipython2",
   "version": "2.7.6"
  }
 },
 "nbformat": 4,
 "nbformat_minor": 5
}
