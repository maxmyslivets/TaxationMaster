{
 "cells": [
  {
   "cell_type": "code",
   "id": "initial_id",
   "metadata": {
    "collapsed": true,
    "ExecuteTime": {
     "end_time": "2025-01-13T19:37:57.698261Z",
     "start_time": "2025-01-13T19:37:57.695253Z"
    }
   },
   "source": [
    "import string\n",
    "\n",
    "import xlwings as xw\n",
    "import pandas as pd\n",
    "import string\n",
    "\n",
    "from src.excel import ExcelWorker\n",
    "from src.parsing import Parser\n",
    "from src.validation import SearchAmbiguity"
   ],
   "outputs": [],
   "execution_count": 5
  },
  {
   "metadata": {
    "ExecuteTime": {
     "end_time": "2025-01-13T19:37:07.890557Z",
     "start_time": "2025-01-13T19:37:07.887730Z"
    }
   },
   "cell_type": "code",
   "source": [
    "def column_from_title(sheet: xw.Sheet) -> dict[str: str]:\n",
    "    titles: list[str] = sheet.range('A1').expand('right').value\n",
    "    letters: list[str] = list(string.ascii_uppercase)\n",
    "    return {title: letter for title, letter in zip(titles, letters)}"
   ],
   "id": "5263c1071a9f2d1a",
   "outputs": [],
   "execution_count": 4
  },
  {
   "metadata": {
    "ExecuteTime": {
     "end_time": "2025-01-13T19:32:19.435127Z",
     "start_time": "2025-01-13T19:32:18.953934Z"
    }
   },
   "cell_type": "code",
   "source": [
    "sheet = xw.sheets['Ведомость']\n",
    "col = ExcelWorker.column_from_title(sheet)\n",
    "for cell in ExcelWorker.selected_cells():\n",
    "    name = sheet.range(f\"{col['Наименование']}{cell.row}\").value\n",
    "    is_shrub = Parser.get_specie(name).is_shrub\n",
    "    sheet.range(f\"{col['Кустарник']}{cell.row}\").value = int(is_shrub)"
   ],
   "id": "e4163e1eaf6afa3d",
   "outputs": [],
   "execution_count": 2
  },
  {
   "metadata": {
    "ExecuteTime": {
     "end_time": "2025-01-13T19:39:20.598743Z",
     "start_time": "2025-01-13T19:39:19.978278Z"
    }
   },
   "cell_type": "code",
   "source": [
    "sheet = xw.sheets['Ведомость']\n",
    "col = ExcelWorker.column_from_title(sheet)\n",
    "for cell in ExcelWorker.selected_cells():\n",
    "    number = sheet.range(f\"{col['Номер точки']}{cell.row}\").value\n",
    "    quantity = sheet.range(f\"{col['Количество']}{cell.row}\").value\n",
    "    height = sheet.range(f\"{col['Высота']}{cell.row}\").value\n",
    "    diameter = sheet.range(f\"{col['Толщина']}{cell.row}\").value\n",
    "    is_shrub = bool(sheet.range(f\"{col['Кустарник']}{cell.row}\").value)\n",
    "    problem = SearchAmbiguity.check_in_row_from_taxation_list(number, quantity, height, diameter, is_shrub)\n",
    "    sheet.range(f\"{col['Валидация']}{cell.row}\").value = int(not problem)"
   ],
   "id": "f18cd71ef5e2cd67",
   "outputs": [],
   "execution_count": 9
  },
  {
   "metadata": {
    "ExecuteTime": {
     "end_time": "2025-01-13T19:40:59.889699Z",
     "start_time": "2025-01-13T19:40:59.857617Z"
    }
   },
   "cell_type": "code",
   "source": [
    "for cell in ExcelWorker.selected_cells():\n",
    "    if ',' in str(cell.value):\n",
    "        cell.value = str(cell.value).replace(',', '.')"
   ],
   "id": "286cd6c9507aa11a",
   "outputs": [],
   "execution_count": 10
  }
 ],
 "metadata": {
  "kernelspec": {
   "display_name": "Python 3",
   "language": "python",
   "name": "python3"
  },
  "language_info": {
   "codemirror_mode": {
    "name": "ipython",
    "version": 2
   },
   "file_extension": ".py",
   "mimetype": "text/x-python",
   "name": "python",
   "nbconvert_exporter": "python",
   "pygments_lexer": "ipython2",
   "version": "2.7.6"
  }
 },
 "nbformat": 4,
 "nbformat_minor": 5
}
