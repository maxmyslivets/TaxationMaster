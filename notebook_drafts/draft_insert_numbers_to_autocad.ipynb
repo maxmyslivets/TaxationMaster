{
 "cells": [
  {
   "metadata": {
    "ExecuteTime": {
     "end_time": "2025-01-17T14:55:47.216691Z",
     "start_time": "2025-01-17T14:55:46.576126Z"
    }
   },
   "cell_type": "code",
   "source": [
    "import xlwings as xw\n",
    "from shapely.wkt import loads\n",
    "import pandas as pd\n",
    "import ezdxf\n",
    "from ezdxf.addons import Importer\n",
    "from ezdxf.math import Vec2"
   ],
   "id": "6aa073ed91194f95",
   "outputs": [],
   "execution_count": 101
  },
  {
   "metadata": {
    "ExecuteTime": {
     "end_time": "2025-01-17T15:20:51.179587Z",
     "start_time": "2025-01-17T15:20:51.151916Z"
    }
   },
   "cell_type": "code",
   "source": [
    "sheet = xw.sheets.active\n",
    "zone_df = sheet.range('A1').expand().options(pd.DataFrame, header=1, index=False).value\n",
    "zone_df['Позиция номера'] = zone_df['Позиция номера'].apply(loads)\n",
    "zone_df = zone_df[['Номер', 'Позиция номера']]\n",
    "\n",
    "zone_df"
   ],
   "id": "7fa435952d667c24",
   "outputs": [
    {
     "data": {
      "text/plain": [
       "    Номер                                 Позиция номера\n",
       "0   208.0    POINT (3108.838205298518 1707.285109871409)\n",
       "1   207.0   POINT (3114.150988844972 1707.4695572873902)\n",
       "2   204.0   POINT (3115.690642463274 1707.5867820573599)\n",
       "3   205.0    POINT (3115.1004453425708 1706.18062074892)\n",
       "4   206.0   POINT (3114.699609216242 1705.0905155704238)\n",
       "5   209.0  POINT (3108.9551269498993 1702.8311075061063)\n",
       "6   210.0  POINT (3108.9551269498993 1702.8311075061063)\n",
       "7   211.0  POINT (3104.0287726776705 1706.0783789373688)\n",
       "8   217.0   POINT (3097.720077396069 1708.4442524397011)\n",
       "9   200.0  POINT (3115.8767179014208 1710.2258575299381)\n",
       "10  201.0  POINT (3115.8767179014208 1710.2258575299381)\n",
       "11  202.0  POINT (3115.8767179014208 1710.2258575299381)\n",
       "12  203.0  POINT (3115.8767179014208 1710.2258575299381)\n",
       "13  215.0   POINT (3102.168668723462 1708.5065675452358)\n",
       "14  216.0   POINT (3102.168668723462 1708.5065675452358)\n",
       "15  212.0   POINT (3102.4476191511308 1705.577447903106)\n",
       "16  213.0   POINT (3102.4476191511308 1705.577447903106)\n",
       "17  214.0   POINT (3102.4476191511308 1705.577447903106)"
      ],
      "text/html": [
       "<div>\n",
       "<style scoped>\n",
       "    .dataframe tbody tr th:only-of-type {\n",
       "        vertical-align: middle;\n",
       "    }\n",
       "\n",
       "    .dataframe tbody tr th {\n",
       "        vertical-align: top;\n",
       "    }\n",
       "\n",
       "    .dataframe thead th {\n",
       "        text-align: right;\n",
       "    }\n",
       "</style>\n",
       "<table border=\"1\" class=\"dataframe\">\n",
       "  <thead>\n",
       "    <tr style=\"text-align: right;\">\n",
       "      <th></th>\n",
       "      <th>Номер</th>\n",
       "      <th>Позиция номера</th>\n",
       "    </tr>\n",
       "  </thead>\n",
       "  <tbody>\n",
       "    <tr>\n",
       "      <th>0</th>\n",
       "      <td>208.0</td>\n",
       "      <td>POINT (3108.838205298518 1707.285109871409)</td>\n",
       "    </tr>\n",
       "    <tr>\n",
       "      <th>1</th>\n",
       "      <td>207.0</td>\n",
       "      <td>POINT (3114.150988844972 1707.4695572873902)</td>\n",
       "    </tr>\n",
       "    <tr>\n",
       "      <th>2</th>\n",
       "      <td>204.0</td>\n",
       "      <td>POINT (3115.690642463274 1707.5867820573599)</td>\n",
       "    </tr>\n",
       "    <tr>\n",
       "      <th>3</th>\n",
       "      <td>205.0</td>\n",
       "      <td>POINT (3115.1004453425708 1706.18062074892)</td>\n",
       "    </tr>\n",
       "    <tr>\n",
       "      <th>4</th>\n",
       "      <td>206.0</td>\n",
       "      <td>POINT (3114.699609216242 1705.0905155704238)</td>\n",
       "    </tr>\n",
       "    <tr>\n",
       "      <th>5</th>\n",
       "      <td>209.0</td>\n",
       "      <td>POINT (3108.9551269498993 1702.8311075061063)</td>\n",
       "    </tr>\n",
       "    <tr>\n",
       "      <th>6</th>\n",
       "      <td>210.0</td>\n",
       "      <td>POINT (3108.9551269498993 1702.8311075061063)</td>\n",
       "    </tr>\n",
       "    <tr>\n",
       "      <th>7</th>\n",
       "      <td>211.0</td>\n",
       "      <td>POINT (3104.0287726776705 1706.0783789373688)</td>\n",
       "    </tr>\n",
       "    <tr>\n",
       "      <th>8</th>\n",
       "      <td>217.0</td>\n",
       "      <td>POINT (3097.720077396069 1708.4442524397011)</td>\n",
       "    </tr>\n",
       "    <tr>\n",
       "      <th>9</th>\n",
       "      <td>200.0</td>\n",
       "      <td>POINT (3115.8767179014208 1710.2258575299381)</td>\n",
       "    </tr>\n",
       "    <tr>\n",
       "      <th>10</th>\n",
       "      <td>201.0</td>\n",
       "      <td>POINT (3115.8767179014208 1710.2258575299381)</td>\n",
       "    </tr>\n",
       "    <tr>\n",
       "      <th>11</th>\n",
       "      <td>202.0</td>\n",
       "      <td>POINT (3115.8767179014208 1710.2258575299381)</td>\n",
       "    </tr>\n",
       "    <tr>\n",
       "      <th>12</th>\n",
       "      <td>203.0</td>\n",
       "      <td>POINT (3115.8767179014208 1710.2258575299381)</td>\n",
       "    </tr>\n",
       "    <tr>\n",
       "      <th>13</th>\n",
       "      <td>215.0</td>\n",
       "      <td>POINT (3102.168668723462 1708.5065675452358)</td>\n",
       "    </tr>\n",
       "    <tr>\n",
       "      <th>14</th>\n",
       "      <td>216.0</td>\n",
       "      <td>POINT (3102.168668723462 1708.5065675452358)</td>\n",
       "    </tr>\n",
       "    <tr>\n",
       "      <th>15</th>\n",
       "      <td>212.0</td>\n",
       "      <td>POINT (3102.4476191511308 1705.577447903106)</td>\n",
       "    </tr>\n",
       "    <tr>\n",
       "      <th>16</th>\n",
       "      <td>213.0</td>\n",
       "      <td>POINT (3102.4476191511308 1705.577447903106)</td>\n",
       "    </tr>\n",
       "    <tr>\n",
       "      <th>17</th>\n",
       "      <td>214.0</td>\n",
       "      <td>POINT (3102.4476191511308 1705.577447903106)</td>\n",
       "    </tr>\n",
       "  </tbody>\n",
       "</table>\n",
       "</div>"
      ]
     },
     "execution_count": 115,
     "metadata": {},
     "output_type": "execute_result"
    }
   ],
   "execution_count": 115
  },
  {
   "metadata": {
    "ExecuteTime": {
     "end_time": "2025-01-17T15:25:27.337327Z",
     "start_time": "2025-01-17T15:25:27.331346Z"
    }
   },
   "cell_type": "code",
   "source": [
    "zip_numbers = {}\n",
    "for _, series in zone_df.iterrows():\n",
    "    if series['Позиция номера'] not in zip_numbers:\n",
    "        zip_numbers[series['Позиция номера']] = [series['Номер']]\n",
    "    else:\n",
    "        zip_numbers[series['Позиция номера']].append(series['Номер'])\n",
    "\n",
    "zip_numbers"
   ],
   "id": "bc91643b6e5b75aa",
   "outputs": [
    {
     "data": {
      "text/plain": [
       "{<POINT (3108.838 1707.285)>: [208.0],\n",
       " <POINT (3114.151 1707.47)>: [207.0],\n",
       " <POINT (3115.691 1707.587)>: [204.0],\n",
       " <POINT (3115.1 1706.181)>: [205.0],\n",
       " <POINT (3114.7 1705.091)>: [206.0],\n",
       " <POINT (3108.955 1702.831)>: [209.0, 210.0],\n",
       " <POINT (3104.029 1706.078)>: [211.0],\n",
       " <POINT (3097.72 1708.444)>: [217.0],\n",
       " <POINT (3115.877 1710.226)>: [200.0, 201.0, 202.0, 203.0],\n",
       " <POINT (3102.169 1708.507)>: [215.0, 216.0],\n",
       " <POINT (3102.448 1705.577)>: [212.0, 213.0, 214.0]}"
      ]
     },
     "execution_count": 126,
     "metadata": {},
     "output_type": "execute_result"
    }
   ],
   "execution_count": 126
  },
  {
   "metadata": {
    "ExecuteTime": {
     "end_time": "2025-01-17T15:27:00.181600Z",
     "start_time": "2025-01-17T15:27:00.175581Z"
    }
   },
   "cell_type": "code",
   "source": [
    "def compress_ranges(numbers):\n",
    "    numbers = sorted(map(int, numbers))\n",
    "    result = []\n",
    "    start = numbers[0]\n",
    "    end = start\n",
    "\n",
    "    for i in range(1, len(numbers)):\n",
    "        if numbers[i] == end + 1:\n",
    "            end = numbers[i]\n",
    "        else:\n",
    "            if end - start == 1:\n",
    "                result.append(f\"{start},{end}\")\n",
    "            else:\n",
    "                result.append(f\"{start}-{end}\" if start != end else str(start))\n",
    "            start = end = numbers[i]\n",
    "\n",
    "    if end - start == 1:\n",
    "        result.append(f\"{start},{end}\")\n",
    "    else:\n",
    "        result.append(f\"{start}-{end}\" if start != end else str(start))\n",
    "    \n",
    "    return \",\".join(result)\n",
    "\n",
    "compress_ranges(['200', '201', '202', '204', '205', '209', '210', '211', '213'])"
   ],
   "id": "613b80e44006c58c",
   "outputs": [
    {
     "data": {
      "text/plain": [
       "'200-202,204,205,209-211,213'"
      ]
     },
     "execution_count": 130,
     "metadata": {},
     "output_type": "execute_result"
    }
   ],
   "execution_count": 130
  },
  {
   "metadata": {
    "ExecuteTime": {
     "end_time": "2025-01-17T15:29:22.744595Z",
     "start_time": "2025-01-17T15:29:22.740919Z"
    }
   },
   "cell_type": "code",
   "source": [
    "zip_numbers_text = {k: compress_ranges(v) for k, v in zip_numbers.items()}\n",
    "\n",
    "zip_numbers_text"
   ],
   "id": "46d2d454b60151d3",
   "outputs": [
    {
     "data": {
      "text/plain": [
       "{<POINT (3108.838 1707.285)>: '208',\n",
       " <POINT (3114.151 1707.47)>: '207',\n",
       " <POINT (3115.691 1707.587)>: '204',\n",
       " <POINT (3115.1 1706.181)>: '205',\n",
       " <POINT (3114.7 1705.091)>: '206',\n",
       " <POINT (3108.955 1702.831)>: '209,210',\n",
       " <POINT (3104.029 1706.078)>: '211',\n",
       " <POINT (3097.72 1708.444)>: '217',\n",
       " <POINT (3115.877 1710.226)>: '200-203',\n",
       " <POINT (3102.169 1708.507)>: '215,216',\n",
       " <POINT (3102.448 1705.577)>: '212-214'}"
      ]
     },
     "execution_count": 137,
     "metadata": {},
     "output_type": "execute_result"
    }
   ],
   "execution_count": 137
  },
  {
   "metadata": {
    "ExecuteTime": {
     "end_time": "2025-01-17T15:33:19.987808Z",
     "start_time": "2025-01-17T15:33:19.983640Z"
    }
   },
   "cell_type": "code",
   "source": [
    "zip_numbers_text_for_df = [{'Номер': v, 'Позиция номера': k} for k, v in zip_numbers_text.items()]\n",
    "\n",
    "zip_numbers_text_for_df"
   ],
   "id": "f5a88cc37f1ac73d",
   "outputs": [
    {
     "data": {
      "text/plain": [
       "[{'Номер': '208', 'Позиция номера': <POINT (3108.838 1707.285)>},\n",
       " {'Номер': '207', 'Позиция номера': <POINT (3114.151 1707.47)>},\n",
       " {'Номер': '204', 'Позиция номера': <POINT (3115.691 1707.587)>},\n",
       " {'Номер': '205', 'Позиция номера': <POINT (3115.1 1706.181)>},\n",
       " {'Номер': '206', 'Позиция номера': <POINT (3114.7 1705.091)>},\n",
       " {'Номер': '209,210', 'Позиция номера': <POINT (3108.955 1702.831)>},\n",
       " {'Номер': '211', 'Позиция номера': <POINT (3104.029 1706.078)>},\n",
       " {'Номер': '217', 'Позиция номера': <POINT (3097.72 1708.444)>},\n",
       " {'Номер': '200-203', 'Позиция номера': <POINT (3115.877 1710.226)>},\n",
       " {'Номер': '215,216', 'Позиция номера': <POINT (3102.169 1708.507)>},\n",
       " {'Номер': '212-214', 'Позиция номера': <POINT (3102.448 1705.577)>}]"
      ]
     },
     "execution_count": 141,
     "metadata": {},
     "output_type": "execute_result"
    }
   ],
   "execution_count": 141
  },
  {
   "metadata": {
    "ExecuteTime": {
     "end_time": "2025-01-17T15:33:37.824916Z",
     "start_time": "2025-01-17T15:33:37.819607Z"
    }
   },
   "cell_type": "code",
   "source": [
    "zip_numbers_text_df = pd.DataFrame(zip_numbers_text_for_df)\n",
    "\n",
    "zip_numbers_text_df"
   ],
   "id": "96894d356db046cb",
   "outputs": [
    {
     "data": {
      "text/plain": [
       "      Номер                                 Позиция номера\n",
       "0       208    POINT (3108.838205298518 1707.285109871409)\n",
       "1       207   POINT (3114.150988844972 1707.4695572873902)\n",
       "2       204   POINT (3115.690642463274 1707.5867820573599)\n",
       "3       205    POINT (3115.1004453425708 1706.18062074892)\n",
       "4       206   POINT (3114.699609216242 1705.0905155704238)\n",
       "5   209,210  POINT (3108.9551269498993 1702.8311075061063)\n",
       "6       211  POINT (3104.0287726776705 1706.0783789373688)\n",
       "7       217   POINT (3097.720077396069 1708.4442524397011)\n",
       "8   200-203  POINT (3115.8767179014208 1710.2258575299381)\n",
       "9   215,216   POINT (3102.168668723462 1708.5065675452358)\n",
       "10  212-214   POINT (3102.4476191511308 1705.577447903106)"
      ],
      "text/html": [
       "<div>\n",
       "<style scoped>\n",
       "    .dataframe tbody tr th:only-of-type {\n",
       "        vertical-align: middle;\n",
       "    }\n",
       "\n",
       "    .dataframe tbody tr th {\n",
       "        vertical-align: top;\n",
       "    }\n",
       "\n",
       "    .dataframe thead th {\n",
       "        text-align: right;\n",
       "    }\n",
       "</style>\n",
       "<table border=\"1\" class=\"dataframe\">\n",
       "  <thead>\n",
       "    <tr style=\"text-align: right;\">\n",
       "      <th></th>\n",
       "      <th>Номер</th>\n",
       "      <th>Позиция номера</th>\n",
       "    </tr>\n",
       "  </thead>\n",
       "  <tbody>\n",
       "    <tr>\n",
       "      <th>0</th>\n",
       "      <td>208</td>\n",
       "      <td>POINT (3108.838205298518 1707.285109871409)</td>\n",
       "    </tr>\n",
       "    <tr>\n",
       "      <th>1</th>\n",
       "      <td>207</td>\n",
       "      <td>POINT (3114.150988844972 1707.4695572873902)</td>\n",
       "    </tr>\n",
       "    <tr>\n",
       "      <th>2</th>\n",
       "      <td>204</td>\n",
       "      <td>POINT (3115.690642463274 1707.5867820573599)</td>\n",
       "    </tr>\n",
       "    <tr>\n",
       "      <th>3</th>\n",
       "      <td>205</td>\n",
       "      <td>POINT (3115.1004453425708 1706.18062074892)</td>\n",
       "    </tr>\n",
       "    <tr>\n",
       "      <th>4</th>\n",
       "      <td>206</td>\n",
       "      <td>POINT (3114.699609216242 1705.0905155704238)</td>\n",
       "    </tr>\n",
       "    <tr>\n",
       "      <th>5</th>\n",
       "      <td>209,210</td>\n",
       "      <td>POINT (3108.9551269498993 1702.8311075061063)</td>\n",
       "    </tr>\n",
       "    <tr>\n",
       "      <th>6</th>\n",
       "      <td>211</td>\n",
       "      <td>POINT (3104.0287726776705 1706.0783789373688)</td>\n",
       "    </tr>\n",
       "    <tr>\n",
       "      <th>7</th>\n",
       "      <td>217</td>\n",
       "      <td>POINT (3097.720077396069 1708.4442524397011)</td>\n",
       "    </tr>\n",
       "    <tr>\n",
       "      <th>8</th>\n",
       "      <td>200-203</td>\n",
       "      <td>POINT (3115.8767179014208 1710.2258575299381)</td>\n",
       "    </tr>\n",
       "    <tr>\n",
       "      <th>9</th>\n",
       "      <td>215,216</td>\n",
       "      <td>POINT (3102.168668723462 1708.5065675452358)</td>\n",
       "    </tr>\n",
       "    <tr>\n",
       "      <th>10</th>\n",
       "      <td>212-214</td>\n",
       "      <td>POINT (3102.4476191511308 1705.577447903106)</td>\n",
       "    </tr>\n",
       "  </tbody>\n",
       "</table>\n",
       "</div>"
      ]
     },
     "execution_count": 142,
     "metadata": {},
     "output_type": "execute_result"
    }
   ],
   "execution_count": 142
  },
  {
   "metadata": {
    "ExecuteTime": {
     "end_time": "2025-01-17T16:14:17.519139Z",
     "start_time": "2025-01-17T16:14:17.512396Z"
    }
   },
   "cell_type": "code",
   "source": [
    "# Имитация определения действия\n",
    "\n",
    "from random import randint\n",
    "\n",
    "actions = []\n",
    "for i in range(11):\n",
    "    actions.append('Удаление' if randint(0, 1) == 0 else 'Пересадка')\n",
    "\n",
    "zip_numbers_text_df['Действие'] = actions\n",
    "\n",
    "zip_numbers_text_df"
   ],
   "id": "8d4a19ecb23607a4",
   "outputs": [
    {
     "data": {
      "text/plain": [
       "      Номер                                 Позиция номера   Действие\n",
       "0       208    POINT (3108.838205298518 1707.285109871409)   Удаление\n",
       "1       207   POINT (3114.150988844972 1707.4695572873902)   Удаление\n",
       "2       204   POINT (3115.690642463274 1707.5867820573599)   Удаление\n",
       "3       205    POINT (3115.1004453425708 1706.18062074892)   Удаление\n",
       "4       206   POINT (3114.699609216242 1705.0905155704238)  Пересадка\n",
       "5   209,210  POINT (3108.9551269498993 1702.8311075061063)   Удаление\n",
       "6       211  POINT (3104.0287726776705 1706.0783789373688)   Удаление\n",
       "7       217   POINT (3097.720077396069 1708.4442524397011)   Удаление\n",
       "8   200-203  POINT (3115.8767179014208 1710.2258575299381)   Удаление\n",
       "9   215,216   POINT (3102.168668723462 1708.5065675452358)   Удаление\n",
       "10  212-214   POINT (3102.4476191511308 1705.577447903106)   Удаление"
      ],
      "text/html": [
       "<div>\n",
       "<style scoped>\n",
       "    .dataframe tbody tr th:only-of-type {\n",
       "        vertical-align: middle;\n",
       "    }\n",
       "\n",
       "    .dataframe tbody tr th {\n",
       "        vertical-align: top;\n",
       "    }\n",
       "\n",
       "    .dataframe thead th {\n",
       "        text-align: right;\n",
       "    }\n",
       "</style>\n",
       "<table border=\"1\" class=\"dataframe\">\n",
       "  <thead>\n",
       "    <tr style=\"text-align: right;\">\n",
       "      <th></th>\n",
       "      <th>Номер</th>\n",
       "      <th>Позиция номера</th>\n",
       "      <th>Действие</th>\n",
       "    </tr>\n",
       "  </thead>\n",
       "  <tbody>\n",
       "    <tr>\n",
       "      <th>0</th>\n",
       "      <td>208</td>\n",
       "      <td>POINT (3108.838205298518 1707.285109871409)</td>\n",
       "      <td>Удаление</td>\n",
       "    </tr>\n",
       "    <tr>\n",
       "      <th>1</th>\n",
       "      <td>207</td>\n",
       "      <td>POINT (3114.150988844972 1707.4695572873902)</td>\n",
       "      <td>Удаление</td>\n",
       "    </tr>\n",
       "    <tr>\n",
       "      <th>2</th>\n",
       "      <td>204</td>\n",
       "      <td>POINT (3115.690642463274 1707.5867820573599)</td>\n",
       "      <td>Удаление</td>\n",
       "    </tr>\n",
       "    <tr>\n",
       "      <th>3</th>\n",
       "      <td>205</td>\n",
       "      <td>POINT (3115.1004453425708 1706.18062074892)</td>\n",
       "      <td>Удаление</td>\n",
       "    </tr>\n",
       "    <tr>\n",
       "      <th>4</th>\n",
       "      <td>206</td>\n",
       "      <td>POINT (3114.699609216242 1705.0905155704238)</td>\n",
       "      <td>Пересадка</td>\n",
       "    </tr>\n",
       "    <tr>\n",
       "      <th>5</th>\n",
       "      <td>209,210</td>\n",
       "      <td>POINT (3108.9551269498993 1702.8311075061063)</td>\n",
       "      <td>Удаление</td>\n",
       "    </tr>\n",
       "    <tr>\n",
       "      <th>6</th>\n",
       "      <td>211</td>\n",
       "      <td>POINT (3104.0287726776705 1706.0783789373688)</td>\n",
       "      <td>Удаление</td>\n",
       "    </tr>\n",
       "    <tr>\n",
       "      <th>7</th>\n",
       "      <td>217</td>\n",
       "      <td>POINT (3097.720077396069 1708.4442524397011)</td>\n",
       "      <td>Удаление</td>\n",
       "    </tr>\n",
       "    <tr>\n",
       "      <th>8</th>\n",
       "      <td>200-203</td>\n",
       "      <td>POINT (3115.8767179014208 1710.2258575299381)</td>\n",
       "      <td>Удаление</td>\n",
       "    </tr>\n",
       "    <tr>\n",
       "      <th>9</th>\n",
       "      <td>215,216</td>\n",
       "      <td>POINT (3102.168668723462 1708.5065675452358)</td>\n",
       "      <td>Удаление</td>\n",
       "    </tr>\n",
       "    <tr>\n",
       "      <th>10</th>\n",
       "      <td>212-214</td>\n",
       "      <td>POINT (3102.4476191511308 1705.577447903106)</td>\n",
       "      <td>Удаление</td>\n",
       "    </tr>\n",
       "  </tbody>\n",
       "</table>\n",
       "</div>"
      ]
     },
     "execution_count": 151,
     "metadata": {},
     "output_type": "execute_result"
    }
   ],
   "execution_count": 151
  },
  {
   "metadata": {
    "ExecuteTime": {
     "end_time": "2025-01-17T16:43:35.952612Z",
     "start_time": "2025-01-17T16:43:35.949539Z"
    }
   },
   "cell_type": "code",
   "source": [
    "import ezdxf\n",
    "from ezdxf.addons import Importer\n",
    "from ezdxf.math import Vec2\n",
    "from datetime import datetime"
   ],
   "id": "63d0d62a66cfc25a",
   "outputs": [],
   "execution_count": 179
  },
  {
   "metadata": {
    "ExecuteTime": {
     "end_time": "2025-01-17T16:40:17.135026Z",
     "start_time": "2025-01-17T16:40:17.131804Z"
    }
   },
   "cell_type": "code",
   "source": [
    "dxf_template_path = r'C:\\Projects\\TaxationTool\\data\\template.dxf'\n",
    "dt = datetime.now().strftime('%Y%m%d%H%M%S')\n",
    "dxf_output_path = fr'C:\\Projects\\TaxationTool\\test_data\\dxf_out_{dt}.dxf'\n",
    "data = zip_numbers_text_df"
   ],
   "id": "371b382ea287e8ed",
   "outputs": [],
   "execution_count": 170
  },
  {
   "metadata": {
    "ExecuteTime": {
     "end_time": "2025-01-17T16:40:17.763946Z",
     "start_time": "2025-01-17T16:40:17.760959Z"
    }
   },
   "cell_type": "code",
   "source": [
    "layer_name_taxation_removable = 'Таксация_деревья(удаляемые)'\n",
    "layer_name_taxation_transplantable = 'Таксация_деревья(пересаживаемые)'\n",
    "layer_name_leader_removable = 'Таксация_номера(удаляемые)'\n",
    "layer_name_leader_transplantable = 'Таксация_номера(пересаживаемые)'\n",
    "block_scale = 0.004\n",
    "dxfattribs_block = {'xscale': block_scale,\n",
    "                    'yscale': block_scale}\n",
    "mtext_segment = Vec2.from_deg_angle(45, 3)\n",
    "block_name_removable = 'taxation_removable'\n",
    "block_name_transplantable = 'taxation_removable'"
   ],
   "id": "36db206b66426ede",
   "outputs": [],
   "execution_count": 171
  },
  {
   "metadata": {
    "ExecuteTime": {
     "end_time": "2025-01-17T16:43:44.030623Z",
     "start_time": "2025-01-17T16:43:43.997136Z"
    }
   },
   "cell_type": "code",
   "source": [
    "dxf_source = ezdxf.readfile(dxf_template_path)\n",
    "dxf_new = ezdxf.new(dxfversion='R2013', setup=True, units=6)\n",
    "msp = dxf_new.modelspace()\n",
    "\n",
    "importer = Importer(dxf_source, dxf_new)\n",
    "importer.import_block(block_name_removable)\n",
    "importer.import_block(block_name_transplantable)\n",
    "importer.finalize()\n",
    "\n",
    "# dxf_new.layers.add(layer_name_taxation_removable, color=7)\n",
    "# dxf_new.layers.add(layer_name_taxation_transplantable, color=7)\n",
    "# dxf_new.layers.add(layer_name_leader_removable, color=7)\n",
    "# dxf_new.layers.add(layer_name_leader_transplantable, color=7)"
   ],
   "id": "ce2b47b253b3f47c",
   "outputs": [],
   "execution_count": 180
  },
  {
   "metadata": {
    "ExecuteTime": {
     "end_time": "2025-01-17T16:43:45.178156Z",
     "start_time": "2025-01-17T16:43:45.157584Z"
    }
   },
   "cell_type": "code",
   "source": [
    "for _, series in data.iterrows():\n",
    "    insert_point = Vec2(series['Позиция номера'].x, series['Позиция номера'].y)\n",
    "    text_number = series['Номер']\n",
    "    \n",
    "    action = series['Действие']\n",
    "    if action == 'Удаление':\n",
    "        dxfattribs_block['layer'] = layer_name_taxation_removable\n",
    "        layer = layer_name_leader_removable\n",
    "        block_name = block_name_removable\n",
    "    elif action == 'Пересадка':\n",
    "        dxfattribs_block['layer'] = layer_name_taxation_transplantable\n",
    "        layer = layer_name_leader_transplantable\n",
    "        block_name = block_name_transplantable\n",
    "    else:\n",
    "        raise ValueError(f\"Номер {text_number} - неизвестное действие '{action}'\")\n",
    "    \n",
    "    msp.add_blockref(block_name, insert_point, dxfattribs=dxfattribs_block)\n",
    "    ml_builder = msp.add_multileader_mtext(style='Standard', dxfattribs={'layer': layer})\n",
    "    ml_builder.quick_leader(text_number, insert_point, mtext_segment)\n",
    "\n",
    "dxf_new.saveas(dxf_output_path)"
   ],
   "id": "3e5a416c6b67f59f",
   "outputs": [],
   "execution_count": 181
  }
 ],
 "metadata": {
  "kernelspec": {
   "display_name": "Python 3",
   "language": "python",
   "name": "python3"
  },
  "language_info": {
   "codemirror_mode": {
    "name": "ipython",
    "version": 2
   },
   "file_extension": ".py",
   "mimetype": "text/x-python",
   "name": "python",
   "nbconvert_exporter": "python",
   "pygments_lexer": "ipython2",
   "version": "2.7.6"
  }
 },
 "nbformat": 4,
 "nbformat_minor": 5
}
