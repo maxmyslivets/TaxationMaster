{
 "cells": [
  {
   "cell_type": "code",
   "id": "initial_id",
   "metadata": {
    "collapsed": true,
    "ExecuteTime": {
     "end_time": "2025-01-16T13:02:36.293520Z",
     "start_time": "2025-01-16T13:02:36.290766Z"
    }
   },
   "source": [
    "import time\n",
    "\n",
    "from pyautocad import Autocad, APoint\n",
    "from shapely.geometry.point import Point"
   ],
   "outputs": [],
   "execution_count": 21
  },
  {
   "metadata": {
    "ExecuteTime": {
     "end_time": "2025-01-16T13:05:18.967276Z",
     "start_time": "2025-01-16T13:05:18.963016Z"
    }
   },
   "cell_type": "code",
   "source": [
    "class AutocadMLeaderWorker:\n",
    "    def __init__(self):\n",
    "        self.acad = Autocad()\n",
    "        self.model = acad.model\n",
    "        self.MLeader = None\n",
    "        self.base_point = None\n",
    "        \n",
    "    def init_MLeader(self, layer):\n",
    "        for obj in acad.iter_objects(['AcDbMLeader']):\n",
    "            if obj.Layer == layer:\n",
    "                self.MLeader = obj\n",
    "                self.base_point = APoint([*obj.GetLeaderLineVertices(0)[:2], 0])\n",
    "    \n",
    "    def insert_MLeader(self, insert_data) -> None:\n",
    "        if self.MLeader is None:\n",
    "            raise ValueError('MLeader object is None')\n",
    "        for layer, text, x, y in insert_data:\n",
    "            MLeader_past = self.MLeader.Copy()\n",
    "            MLeader_past.TextString = text\n",
    "            MLeader_past.Layer = layer\n",
    "            MLeader_past.Move(self.base_point, APoint([x, y, 0]))\n"
   ],
   "id": "3e5bebbbdc8f26",
   "outputs": [],
   "execution_count": 24
  },
  {
   "metadata": {
    "ExecuteTime": {
     "end_time": "2025-01-16T13:05:21.761614Z",
     "start_time": "2025-01-16T13:05:21.190070Z"
    }
   },
   "cell_type": "code",
   "source": [
    "MLeaderWorker = AutocadMLeaderWorker()\n",
    "MLeaderWorker.init_MLeader('template')\n",
    "data = [\n",
    "    ('ВЫНОСКИ', '1', 3300.78, 1550.62),\n",
    "    ('ВЫНОСКИ', '2', 3200.78, 1640.62),\n",
    "    ('ВЫНОСКИ', '3', 3100.78, 1600.62)\n",
    "]\n",
    "MLeaderWorker.insert_MLeader(data)\n"
   ],
   "id": "40af780244e867ea",
   "outputs": [],
   "execution_count": 25
  },
  {
   "metadata": {},
   "cell_type": "markdown",
   "source": "## EZDXF",
   "id": "eb50f50620a04e21"
  },
  {
   "metadata": {
    "ExecuteTime": {
     "end_time": "2025-01-16T14:02:15.478964Z",
     "start_time": "2025-01-16T14:02:15.304005Z"
    }
   },
   "cell_type": "code",
   "source": [
    "import ezdxf\n",
    "from ezdxf.entities import MultiLeader\n",
    "\n",
    "path = r'C:\\Projects\\TaxationTool\\test_data\\example_1_topographic_plan.dxf'\n",
    "doc = ezdxf.readfile(path)\n",
    "msp = doc.modelspace()"
   ],
   "id": "e546446542741eba",
   "outputs": [],
   "execution_count": 75
  },
  {
   "metadata": {
    "ExecuteTime": {
     "end_time": "2025-01-16T14:02:34.649459Z",
     "start_time": "2025-01-16T14:02:34.637832Z"
    }
   },
   "cell_type": "code",
   "source": [
    "from ezdxf.math import Vec2\n",
    "\n",
    "mleader: MultiLeader = msp.query('MULTILEADER[layer==\"template\"]').first\n",
    "ml_builder = msp.add_multileader_mtext()\n",
    "ml_builder.quick_leader('537', Vec2(3300.78, 1550.62), Vec2.from_deg_angle(45, 3))\n"
   ],
   "id": "205e925b0a558527",
   "outputs": [
    {
     "ename": "AttributeError",
     "evalue": "'MLeaderStyleCollection' object has no attribute 'set_mtext_style'",
     "output_type": "error",
     "traceback": [
      "\u001B[1;31m---------------------------------------------------------------------------\u001B[0m",
      "\u001B[1;31mAttributeError\u001B[0m                            Traceback (most recent call last)",
      "Cell \u001B[1;32mIn[76], line 5\u001B[0m\n\u001B[0;32m      3\u001B[0m mleader: MultiLeader \u001B[38;5;241m=\u001B[39m msp\u001B[38;5;241m.\u001B[39mquery(\u001B[38;5;124m'\u001B[39m\u001B[38;5;124mMULTILEADER[layer==\u001B[39m\u001B[38;5;124m\"\u001B[39m\u001B[38;5;124mtemplate\u001B[39m\u001B[38;5;124m\"\u001B[39m\u001B[38;5;124m]\u001B[39m\u001B[38;5;124m'\u001B[39m)\u001B[38;5;241m.\u001B[39mfirst\n\u001B[0;32m      4\u001B[0m ml_builder \u001B[38;5;241m=\u001B[39m msp\u001B[38;5;241m.\u001B[39madd_multileader_mtext()\n\u001B[1;32m----> 5\u001B[0m \u001B[43mdoc\u001B[49m\u001B[38;5;241;43m.\u001B[39;49m\u001B[43mmleader_styles\u001B[49m\u001B[38;5;241;43m.\u001B[39;49m\u001B[43mset_mtext_style\u001B[49m(\u001B[38;5;124m\"\u001B[39m\u001B[38;5;124mNF_VGP_3.0\u001B[39m\u001B[38;5;124m\"\u001B[39m)\n\u001B[0;32m      6\u001B[0m ml_builder\u001B[38;5;241m.\u001B[39mquick_leader(\u001B[38;5;124m'\u001B[39m\u001B[38;5;124m537\u001B[39m\u001B[38;5;124m'\u001B[39m, Vec2(\u001B[38;5;241m3300.78\u001B[39m, \u001B[38;5;241m1550.62\u001B[39m), Vec2\u001B[38;5;241m.\u001B[39mfrom_deg_angle(\u001B[38;5;241m45\u001B[39m, \u001B[38;5;241m3\u001B[39m))\n",
      "\u001B[1;31mAttributeError\u001B[0m: 'MLeaderStyleCollection' object has no attribute 'set_mtext_style'"
     ]
    }
   ],
   "execution_count": 76
  },
  {
   "metadata": {
    "ExecuteTime": {
     "end_time": "2025-01-16T14:00:31.358367Z",
     "start_time": "2025-01-16T14:00:31.317642Z"
    }
   },
   "cell_type": "code",
   "source": "doc.save()",
   "id": "f6ea4750af19214e",
   "outputs": [],
   "execution_count": 74
  }
 ],
 "metadata": {
  "kernelspec": {
   "display_name": "Python 3",
   "language": "python",
   "name": "python3"
  },
  "language_info": {
   "codemirror_mode": {
    "name": "ipython",
    "version": 2
   },
   "file_extension": ".py",
   "mimetype": "text/x-python",
   "name": "python",
   "nbconvert_exporter": "python",
   "pygments_lexer": "ipython2",
   "version": "2.7.6"
  }
 },
 "nbformat": 4,
 "nbformat_minor": 5
}
