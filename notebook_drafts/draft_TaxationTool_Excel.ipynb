{
 "cells": [
  {
   "cell_type": "code",
   "id": "initial_id",
   "metadata": {
    "collapsed": true,
    "ExecuteTime": {
     "end_time": "2025-01-05T17:48:13.615443Z",
     "start_time": "2025-01-05T17:48:13.594959Z"
    }
   },
   "source": [
    "import pandas as pd\n",
    "import xlwings as xw\n",
    "\n",
    "from src.validation import SearchAmbiguity"
   ],
   "outputs": [],
   "execution_count": 27
  },
  {
   "metadata": {
    "ExecuteTime": {
     "end_time": "2025-01-05T22:05:43.801333Z",
     "start_time": "2025-01-05T22:05:43.791466Z"
    }
   },
   "cell_type": "code",
   "source": [
    "selected_cells = xw.apps.active.selection\n",
    "selected_cells.value"
   ],
   "id": "c2d69bffc6afe33b",
   "outputs": [
    {
     "data": {
      "text/plain": [
       "6.0"
      ]
     },
     "execution_count": 48,
     "metadata": {},
     "output_type": "execute_result"
    }
   ],
   "execution_count": 48
  },
  {
   "metadata": {
    "ExecuteTime": {
     "end_time": "2025-01-05T21:34:37.900007Z",
     "start_time": "2025-01-05T21:34:37.895875Z"
    }
   },
   "cell_type": "code",
   "source": [
    "from src.parsing import Splitter\n",
    "\n",
    "len(Splitter.size('5.4.8х2'))"
   ],
   "id": "19d31c54f4bfd641",
   "outputs": [
    {
     "data": {
      "text/plain": [
       "1"
      ]
     },
     "execution_count": 45,
     "metadata": {},
     "output_type": "execute_result"
    }
   ],
   "execution_count": 45
  }
 ],
 "metadata": {
  "kernelspec": {
   "display_name": "Python 3",
   "language": "python",
   "name": "python3"
  },
  "language_info": {
   "codemirror_mode": {
    "name": "ipython",
    "version": 2
   },
   "file_extension": ".py",
   "mimetype": "text/x-python",
   "name": "python",
   "nbconvert_exporter": "python",
   "pygments_lexer": "ipython2",
   "version": "2.7.6"
  }
 },
 "nbformat": 4,
 "nbformat_minor": 5
}
