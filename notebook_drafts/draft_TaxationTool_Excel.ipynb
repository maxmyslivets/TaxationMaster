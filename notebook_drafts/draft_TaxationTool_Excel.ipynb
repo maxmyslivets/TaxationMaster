{
 "cells": [
  {
   "cell_type": "code",
   "id": "initial_id",
   "metadata": {
    "collapsed": true,
    "ExecuteTime": {
     "end_time": "2025-01-05T17:48:13.615443Z",
     "start_time": "2025-01-05T17:48:13.594959Z"
    }
   },
   "source": [
    "import pandas as pd\n",
    "import shapely\n",
    "import xlwings as xw\n",
    "\n",
    "from src.validation import SearchAmbiguity"
   ],
   "outputs": [],
   "execution_count": 27
  },
  {
   "metadata": {
    "ExecuteTime": {
     "end_time": "2025-01-05T22:05:43.801333Z",
     "start_time": "2025-01-05T22:05:43.791466Z"
    }
   },
   "cell_type": "code",
   "source": [
    "selected_cells = xw.apps.active.selection\n",
    "selected_cells.value"
   ],
   "id": "c2d69bffc6afe33b",
   "outputs": [
    {
     "data": {
      "text/plain": [
       "6.0"
      ]
     },
     "execution_count": 48,
     "metadata": {},
     "output_type": "execute_result"
    }
   ],
   "execution_count": 48
  },
  {
   "metadata": {
    "ExecuteTime": {
     "end_time": "2025-01-05T21:34:37.900007Z",
     "start_time": "2025-01-05T21:34:37.895875Z"
    }
   },
   "cell_type": "code",
   "source": [
    "from src.parsing import Splitter\n",
    "\n",
    "len(Splitter.size('5.4.8х2'))"
   ],
   "id": "19d31c54f4bfd641",
   "outputs": [
    {
     "data": {
      "text/plain": [
       "1"
      ]
     },
     "execution_count": 45,
     "metadata": {},
     "output_type": "execute_result"
    }
   ],
   "execution_count": 45
  },
  {
   "metadata": {
    "ExecuteTime": {
     "end_time": "2025-01-08T18:26:25.850711Z",
     "start_time": "2025-01-08T18:26:25.841029Z"
    }
   },
   "cell_type": "code",
   "source": [
    "import xlwings as xw\n",
    "from shapely.geometry import Polygon\n",
    "from shapely.wkt import loads\n",
    "selected_cells = xw.apps.active.selection\n",
    "wkt = selected_cells.value\n",
    "polygon: Polygon = loads(wkt)"
   ],
   "id": "3c36e6a123ac13dc",
   "outputs": [],
   "execution_count": 17
  },
  {
   "metadata": {
    "ExecuteTime": {
     "end_time": "2025-01-08T18:26:30.938100Z",
     "start_time": "2025-01-08T18:26:30.934690Z"
    }
   },
   "cell_type": "code",
   "source": "polygon",
   "id": "872ea8c3a8de64e1",
   "outputs": [
    {
     "data": {
      "text/plain": [
       "<POLYGON ((3075.046 1693.259, 3075.195 1693.13, 3075.377 1693.016, 3075.586 ...>"
      ],
      "image/svg+xml": "<svg xmlns=\"http://www.w3.org/2000/svg\" xmlns:xlink=\"http://www.w3.org/1999/xlink\" width=\"100.0\" height=\"100.0\" viewBox=\"3074.6054024604396 1692.55410834636 4.299747356402804 5.879602709587971\" preserveAspectRatio=\"xMinYMin meet\"><g transform=\"matrix(1,0,0,-1,0,3390.9878194023077)\"><path fill-rule=\"evenodd\" fill=\"#66cc99\" stroke=\"#555555\" stroke-width=\"0.11759205419175942\" opacity=\"0.6\" d=\"M 3075.045526933311,1693.259229309259 L 3075.194758500791,1693.129963393966 L 3075.377483772277,1693.016390747756 L 3075.585548515466,1692.921153298425 L 3075.810798498055,1692.846892973771 L 3076.045079487742,1692.796251701589 L 3076.280237252222,1692.771871409678 L 3076.508117559194,1692.776394025832 L 3076.720577247193,1692.81245552386 L 3076.912286651241,1692.881178755707 L 3077.084439593568,1692.980178187522 L 3077.23915202992,1693.106572354361 L 3077.378539916039,1693.257479791286 L 3077.504719207669,1693.430019033353 L 3077.619805860551,1693.621308615625 L 3077.725915830431,1693.828467073159 L 3077.825165073047,1694.048612941014 L 3078.011545199472,1694.516341047923 L 3078.195746316279,1695.001484897123 L 3078.38050023392,1695.485853479346 L 3078.541922436695,1695.960369320738 L 3078.605494696249,1696.191412660781 L 3078.653166688575,1696.416969052209 L 3078.681582634167,1696.636030573884 L 3078.687386753524,1696.847589304671 L 3078.66722326714,1697.050637323432 L 3078.617736395512,1697.244166709033 L 3078.535570359136,1697.427169540338 L 3078.417369378508,1697.598637896209 L 3078.260832723202,1697.757278077707 L 3078.071735358675,1697.899608947718 L 3077.859583611827,1698.02113866707 L 3077.633903943729,1698.117369942908 L 3077.404222815451,1698.183805482379 L 3077.180066688064,1698.21594799263 L 3076.970962022641,1698.209300180808 L 3076.786431697904,1698.159367216002 L 3076.632479769767,1698.064072551883 L 3076.5050051914,1697.928284298187 L 3076.398104202838,1697.758109465734 L 3076.305873044111,1697.559655065344 L 3076.222407955254,1697.339028107838 L 3076.141805176297,1697.102335604034 L 3075.965582309878,1696.605175781559 L 3075.746282594984,1696.107641920006 L 3075.502063299126,1695.6209421334 L 3075.260283183189,1695.150986606057 L 3075.048301008058,1694.703685522291 L 3074.962033761072,1694.490377329346 L 3074.893475534619,1694.284949066414 L 3074.846046173811,1694.088139506532 L 3074.823165523758,1693.90068742274 L 3074.828253429571,1693.723331588078 L 3074.86472973636,1693.556810775584 L 3074.936014289236,1693.401863758298 L 3075.045526933311,1693.259229309259 z\" /></g></svg>"
     },
     "execution_count": 18,
     "metadata": {},
     "output_type": "execute_result"
    }
   ],
   "execution_count": 18
  },
  {
   "metadata": {
    "ExecuteTime": {
     "end_time": "2025-01-08T20:04:12.138872Z",
     "start_time": "2025-01-08T20:04:11.553664Z"
    }
   },
   "cell_type": "code",
   "source": [
    "from pyautocad import Autocad\n",
    "from src.parsing import Splitter\n",
    "\n",
    "sheet = xw.sheets.active\n",
    "table_range = sheet['A1'].expand('table')\n",
    "data = table_range.value\n",
    "headers = data[0]\n",
    "col_index = headers.index(\"Номер точки\")\n",
    "numbers_from_excel = [row[col_index] for row in data[1:]]\n",
    "acad = Autocad()\n",
    "numbers_from_acad = []\n",
    "for obj in acad.iter_objects(['AcDbText', 'AcDbMText']):\n",
    "    if obj.Layer == \"номера\":\n",
    "        numbers_from_acad.append(obj.TextString)\n",
    "split_numbers_from_excel = []\n",
    "for number_excel in numbers_from_excel:\n",
    "    split_numbers_from_excel.extend(Splitter.number(str(number_excel)))\n",
    "split_numbers_from_acad = []\n",
    "for number_acad in numbers_from_acad:\n",
    "    split_numbers_from_acad.extend(Splitter.number(str(number_acad)))"
   ],
   "id": "69c7290c4454579d",
   "outputs": [],
   "execution_count": 41
  },
  {
   "metadata": {
    "ExecuteTime": {
     "end_time": "2025-01-08T20:05:35.472874Z",
     "start_time": "2025-01-08T20:05:35.468366Z"
    }
   },
   "cell_type": "code",
   "source": [
    "from collections import Counter\n",
    "\n",
    "counter_split_numbers_from_excel = Counter(split_numbers_from_excel)\n",
    "duplicates_split_numbers_from_excel = [key for key, value in counter_split_numbers_from_excel.items() if value > 1]\n",
    "counter_split_numbers_from_acad = Counter(split_numbers_from_acad)\n",
    "duplicates_split_numbers_from_acad = [key for key, value in counter_split_numbers_from_acad.items() if value > 1]\n",
    "unique_in_excel = list(set(split_numbers_from_excel) - set(split_numbers_from_acad))\n",
    "unique_in_acad = list(set(split_numbers_from_acad) - set(split_numbers_from_excel))"
   ],
   "id": "260154ed3378740a",
   "outputs": [],
   "execution_count": 43
  },
  {
   "metadata": {
    "ExecuteTime": {
     "end_time": "2025-01-08T20:05:50.491614Z",
     "start_time": "2025-01-08T20:05:50.487152Z"
    }
   },
   "cell_type": "code",
   "source": [
    "data = {\n",
    "        \"Дубликаты Excel\": duplicates_split_numbers_from_excel,\n",
    "        \"Дубликаты Autocad\": duplicates_split_numbers_from_acad,\n",
    "        \"Только в Excel\": unique_in_excel,\n",
    "        \"Только в Autocad\": unique_in_acad\n",
    "    }\n",
    "data"
   ],
   "id": "f9f32fff6056e4fb",
   "outputs": [
    {
     "data": {
      "text/plain": [
       "{'Дубликаты Excel': ['16'],\n",
       " 'Дубликаты Autocad': ['28'],\n",
       " 'Только в Excel': ['9', '27.3'],\n",
       " 'Только в Autocad': ['14', '6']}"
      ]
     },
     "execution_count": 44,
     "metadata": {},
     "output_type": "execute_result"
    }
   ],
   "execution_count": 44
  },
  {
   "metadata": {
    "ExecuteTime": {
     "end_time": "2025-01-08T20:08:03.302415Z",
     "start_time": "2025-01-08T20:08:03.082240Z"
    }
   },
   "cell_type": "code",
   "source": "new_doc = xw.books.add()",
   "id": "527ff78074938d65",
   "outputs": [],
   "execution_count": 48
  },
  {
   "metadata": {
    "ExecuteTime": {
     "end_time": "2025-01-08T20:09:56.442845Z",
     "start_time": "2025-01-08T20:09:56.407480Z"
    }
   },
   "cell_type": "code",
   "source": "new_doc.sheets[0]['A1'].value = [\"Дубликаты Excel\", \"Дубликаты Autocad\", \"Только в Excel\", \"Только в Autocad\"]",
   "id": "fc5c2a642b845428",
   "outputs": [],
   "execution_count": 49
  },
  {
   "metadata": {
    "ExecuteTime": {
     "end_time": "2025-01-08T20:59:51.326900Z",
     "start_time": "2025-01-08T20:59:51.318546Z"
    }
   },
   "cell_type": "code",
   "source": "xw.sheets['Автокад']",
   "id": "6dee36cbd06a5129",
   "outputs": [
    {
     "data": {
      "text/plain": [
       "<Sheet [TaxationTool_Excel.xlsm]Автокад>"
      ]
     },
     "execution_count": 56,
     "metadata": {},
     "output_type": "execute_result"
    }
   ],
   "execution_count": 56
  }
 ],
 "metadata": {
  "kernelspec": {
   "display_name": "Python 3",
   "language": "python",
   "name": "python3"
  },
  "language_info": {
   "codemirror_mode": {
    "name": "ipython",
    "version": 2
   },
   "file_extension": ".py",
   "mimetype": "text/x-python",
   "name": "python",
   "nbconvert_exporter": "python",
   "pygments_lexer": "ipython2",
   "version": "2.7.6"
  }
 },
 "nbformat": 4,
 "nbformat_minor": 5
}
