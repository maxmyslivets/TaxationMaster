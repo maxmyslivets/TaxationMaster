{
 "cells": [
  {
   "cell_type": "code",
   "id": "initial_id",
   "metadata": {
    "collapsed": true,
    "jupyter": {
     "is_executing": true
    }
   },
   "source": [
    "import xlwings as xw\n",
    "import pandas as pd\n",
    "from ezdxf.select import Polygon\n",
    "from shapely.geometry.linestring import LineString\n",
    "from shapely.geometry.multipolygon import MultiPolygon\n",
    "from shapely.geometry.multilinestring import MultiLineString\n",
    "from shapely.wkt import loads\n",
    "import ast\n",
    "from shapely.geometry import Point\n",
    "from win32com.universal import com_error"
   ],
   "outputs": [],
   "execution_count": null
  },
  {
   "metadata": {
    "jupyter": {
     "is_executing": true
    }
   },
   "cell_type": "code",
   "source": "sheet_result = 'Зона 2'",
   "id": "60e54f630727b857",
   "outputs": [],
   "execution_count": null
  },
  {
   "metadata": {},
   "cell_type": "code",
   "source": [
    "sheet_autocad = xw.sheets['Ведомость ОРМ']\n",
    "taxation_list_orm_df = sheet_autocad.range('A1').expand().options(pd.DataFrame, header=1, index=False).value\n",
    "taxation_list_orm_df['Позиция номера'] = taxation_list_orm_df['Позиция номера'].apply(lambda x: loads(x))\n",
    "taxation_list_orm_df['Геометрия'] = taxation_list_orm_df['Геометрия'].apply(lambda x: loads(x))\n",
    "\n",
    "taxation_list_orm_df"
   ],
   "id": "29bb0dcf8686b10f",
   "outputs": [],
   "execution_count": null
  },
  {
   "metadata": {},
   "cell_type": "code",
   "source": [
    "sheet_zones = xw.sheets['Зоны']\n",
    "zones_df = sheet_zones.range('A1').expand().options(pd.DataFrame, header=1, index=False).value\n",
    "\n",
    "zones_df"
   ],
   "id": "ec976f34f4a0a642",
   "outputs": [],
   "execution_count": null
  },
  {
   "metadata": {},
   "cell_type": "code",
   "source": [
    "zone_names = zones_df['Наименование'].tolist()\n",
    "zone_names.remove(sheet_result)\n",
    "\n",
    "zone_names"
   ],
   "id": "5353b69179fc1fb0",
   "outputs": [],
   "execution_count": null
  },
  {
   "metadata": {},
   "cell_type": "code",
   "source": [
    "used_split_numbers_df = pd.DataFrame(columns=['Исх.номер', 'Список геометрии'])\n",
    "\n",
    "for zone_name in zone_names:\n",
    "    try:\n",
    "        sheet_zone = xw.sheets[zone_name]\n",
    "    except com_error:\n",
    "        continue\n",
    "    if sheet_zone.range('A1').value is None:\n",
    "        continue\n",
    "    _used_split_numbers_df = sheet_zone.range('A1').expand().options(pd.DataFrame, header=1, index=False).value[\n",
    "        ['Исх.номер', 'Геометрия']]\n",
    "    _used_split_numbers_df['Геометрия'] = _used_split_numbers_df['Геометрия'].apply(lambda x: loads(x))\n",
    "    used_split_numbers_df = pd.concat([used_split_numbers_df, _used_split_numbers_df])\n",
    "\n",
    "if len(used_split_numbers_df) != 0:\n",
    "    used_split_numbers_df['type'] = used_split_numbers_df['Геометрия'].apply(lambda x: isinstance(x, Point))\n",
    "    used_split_numbers = used_split_numbers_df[used_split_numbers_df['type']]['Исх.номер'].tolist()\n",
    "else:\n",
    "    used_split_numbers = []\n",
    "\n",
    "used_split_numbers"
   ],
   "id": "dfe99d6663d64183",
   "outputs": [],
   "execution_count": null
  },
  {
   "metadata": {},
   "cell_type": "code",
   "source": [
    "taxation_list_orm_df_not_used = taxation_list_orm_df[~taxation_list_orm_df['Номер точки'].isin(used_split_numbers)]\n",
    "\n",
    "taxation_list_orm_df_not_used"
   ],
   "id": "db13825e0624434b",
   "outputs": [],
   "execution_count": null
  },
  {
   "metadata": {},
   "cell_type": "code",
   "source": [
    "zone_shape = loads(zones_df[zones_df['Наименование'] == sheet_result]['Геометрия'].tolist()[0])\n",
    "\n",
    "zone_shape"
   ],
   "id": "a45c4460edf8baa5",
   "outputs": [],
   "execution_count": null
  },
  {
   "metadata": {},
   "cell_type": "code",
   "source": [
    "def get_size_text(geometry: Point | Polygon | MultiPolygon | LineString | MultiLineString, quantity: str) -> str:\n",
    "    if isinstance(geometry, Polygon) or isinstance(geometry, MultiPolygon):\n",
    "        return f\"{round(geometry.area, 1)} м.кв.\"\n",
    "    elif isinstance(geometry, LineString) or isinstance(geometry, MultiLineString):\n",
    "        return f\"{round(geometry.length, 1)} м.п.\"\n",
    "    else:\n",
    "        try:\n",
    "            assert int(quantity)%1 == 0\n",
    "            return str(int(float(quantity)))\n",
    "        except:\n",
    "            return quantity"
   ],
   "id": "bddaad929c7d211f",
   "outputs": [],
   "execution_count": null
  },
  {
   "metadata": {},
   "cell_type": "code",
   "source": [
    "intersections_shapes = []\n",
    "for _, series in taxation_list_orm_df_not_used.iterrows():\n",
    "    geometry = series['Геометрия']\n",
    "    intersection = zone_shape.intersection(geometry)\n",
    "    if intersection:\n",
    "        if isinstance(intersection, Point) or isinstance(intersection, Polygon) or isinstance(intersection, LineString):\n",
    "            intersections_shapes.append({\n",
    "                'Исх.номер': series['Номер точки'],\n",
    "                'Номер': None,\n",
    "                'Наименование': series['Наименование'],\n",
    "                'Количество': get_size_text(intersection, series['Количество']),\n",
    "                'Высота': series['Высота'],\n",
    "                'Толщина': series['Толщина'],\n",
    "                'Состояние': series['Состояние'],\n",
    "                'Кустарник': series['Кустарник'],\n",
    "                'Позиция номера': intersection.centroid,\n",
    "                'Геометрия': intersection\n",
    "            })\n",
    "        elif isinstance(intersection, MultiPolygon) or isinstance(intersection, MultiLineString):\n",
    "            number_suffix = 0\n",
    "            for intersection_part in intersection.geoms:\n",
    "                number_suffix += 1\n",
    "                intersections_shapes.append({\n",
    "                    'Исх.номер': series['Номер точки']+'_'+str(number_suffix),\n",
    "                    'Номер': None,\n",
    "                    'Наименование': series['Наименование'],\n",
    "                    'Количество': get_size_text(intersection_part, series['Количество']),\n",
    "                    'Высота': series['Высота'],\n",
    "                    'Толщина': series['Толщина'],\n",
    "                    'Состояние': series['Состояние'],\n",
    "                    'Кустарник': series['Кустарник'],\n",
    "                    'Позиция номера': intersection_part.centroid,\n",
    "                    'Геометрия': intersection_part\n",
    "                })\n",
    "\n",
    "intersections_shapes_df = pd.DataFrame(intersections_shapes)\n",
    "\n",
    "intersections_shapes_df"
   ],
   "id": "24b81f587b601ba9",
   "outputs": [],
   "execution_count": null
  },
  {
   "metadata": {},
   "cell_type": "code",
   "source": [
    "sheet = xw.sheets[sheet_result]\n",
    "for l in ['A', 'B']:\n",
    "    sheet[f'{l}:{l}'].number_format = '@'\n",
    "sheet.range('A1').value = intersections_shapes_df\n",
    "sheet[\"A1\"].value = ['index']"
   ],
   "id": "e71c783b8aeb068e",
   "outputs": [],
   "execution_count": null
  }
 ],
 "metadata": {
  "kernelspec": {
   "display_name": "Python 3",
   "language": "python",
   "name": "python3"
  },
  "language_info": {
   "codemirror_mode": {
    "name": "ipython",
    "version": 2
   },
   "file_extension": ".py",
   "mimetype": "text/x-python",
   "name": "python",
   "nbconvert_exporter": "python",
   "pygments_lexer": "ipython2",
   "version": "2.7.6"
  }
 },
 "nbformat": 4,
 "nbformat_minor": 5
}
