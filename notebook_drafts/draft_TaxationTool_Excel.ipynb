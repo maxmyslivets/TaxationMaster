{
 "cells": [
  {
   "cell_type": "code",
   "id": "initial_id",
   "metadata": {
    "collapsed": true,
    "ExecuteTime": {
     "end_time": "2025-01-08T08:23:26.025809Z",
     "start_time": "2025-01-08T08:23:25.864125Z"
    }
   },
   "source": [
    "import pandas as pd\n",
    "import xlwings as xw\n",
    "\n",
    "from src.validation import SearchAmbiguity"
   ],
   "outputs": [],
   "execution_count": 32
  },
  {
   "metadata": {
    "ExecuteTime": {
     "end_time": "2025-01-05T22:05:43.801333Z",
     "start_time": "2025-01-05T22:05:43.791466Z"
    }
   },
   "cell_type": "code",
   "source": [
    "selected_cells = xw.apps.active.selection\n",
    "selected_cells.value"
   ],
   "id": "c2d69bffc6afe33b",
   "outputs": [
    {
     "data": {
      "text/plain": [
       "6.0"
      ]
     },
     "execution_count": 48,
     "metadata": {},
     "output_type": "execute_result"
    }
   ],
   "execution_count": 48
  },
  {
   "metadata": {
    "ExecuteTime": {
     "end_time": "2025-01-08T07:17:35.598592Z",
     "start_time": "2025-01-08T07:17:35.330337Z"
    }
   },
   "cell_type": "code",
   "source": [
    "from src.parsing import Splitter\n",
    "\n",
    "Splitter.size('5;4')"
   ],
   "id": "19d31c54f4bfd641",
   "outputs": [
    {
     "data": {
      "text/plain": [
       "[None]"
      ]
     },
     "execution_count": 1,
     "metadata": {},
     "output_type": "execute_result"
    }
   ],
   "execution_count": 1
  },
  {
   "metadata": {
    "ExecuteTime": {
     "end_time": "2025-01-08T07:25:44.715749Z",
     "start_time": "2025-01-08T07:25:44.712338Z"
    }
   },
   "cell_type": "code",
   "source": [
    "from src.parsing import Templates\n",
    "import re\n",
    "CONTOUR = re.compile(r'^\\d+\\.?\\d+\\s*м\\s*(2|кв\\.?)$', re.IGNORECASE)\n",
    "print(re.search(CONTOUR, \"22 м2\"))"
   ],
   "id": "bc95b12bfa119fd8",
   "outputs": [
    {
     "name": "stdout",
     "output_type": "stream",
     "text": [
      "<re.Match object; span=(0, 5), match='22 м2'>\n"
     ]
    }
   ],
   "execution_count": 28
  },
  {
   "metadata": {
    "ExecuteTime": {
     "end_time": "2025-01-08T08:30:19.125305Z",
     "start_time": "2025-01-08T08:30:19.112756Z"
    }
   },
   "cell_type": "code",
   "source": [
    "selected_cells = xw.apps.active.selection\n",
    "for cell in selected_cells.value:\n",
    "    if cell:\n",
    "        print(cell, True)\n",
    "    else:\n",
    "        print(cell, False)"
   ],
   "id": "5af346d52a2b9ff1",
   "outputs": [
    {
     "ename": "AssertionError",
     "evalue": "",
     "output_type": "error",
     "traceback": [
      "\u001B[1;31m---------------------------------------------------------------------------\u001B[0m",
      "\u001B[1;31mAssertionError\u001B[0m                            Traceback (most recent call last)",
      "Cell \u001B[1;32mIn[36], line 1\u001B[0m\n\u001B[1;32m----> 1\u001B[0m \u001B[38;5;28;01massert\u001B[39;00m \u001B[38;5;28;01mFalse\u001B[39;00m\n",
      "\u001B[1;31mAssertionError\u001B[0m: "
     ]
    }
   ],
   "execution_count": 36
  },
  {
   "metadata": {
    "ExecuteTime": {
     "end_time": "2025-01-08T08:54:48.997791Z",
     "start_time": "2025-01-08T08:54:47.028404Z"
    }
   },
   "cell_type": "code",
   "source": "xw.apps.active.selection.formula_array = \"=insert_stump([@Наименование],[@Пень])\"",
   "id": "bc1011ec1023ff84",
   "outputs": [],
   "execution_count": 52
  }
 ],
 "metadata": {
  "kernelspec": {
   "display_name": "Python 3",
   "language": "python",
   "name": "python3"
  },
  "language_info": {
   "codemirror_mode": {
    "name": "ipython",
    "version": 2
   },
   "file_extension": ".py",
   "mimetype": "text/x-python",
   "name": "python",
   "nbconvert_exporter": "python",
   "pygments_lexer": "ipython2",
   "version": "2.7.6"
  }
 },
 "nbformat": 4,
 "nbformat_minor": 5
}
