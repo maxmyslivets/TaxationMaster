{
 "cells": [
  {
   "cell_type": "code",
   "id": "initial_id",
   "metadata": {
    "collapsed": true,
    "ExecuteTime": {
     "end_time": "2025-01-14T13:20:06.306947Z",
     "start_time": "2025-01-14T13:20:05.406021Z"
    }
   },
   "source": [
    "import xlwings as xw\n",
    "import pandas as pd\n",
    "from ezdxf.select import Polygon\n",
    "from shapely.geometry.linestring import LineString\n",
    "from shapely.geometry.multipolygon import MultiPolygon\n",
    "from shapely.geometry.multilinestring import MultiLineString\n",
    "from shapely.wkt import loads\n",
    "import ast\n",
    "from shapely.geometry import Point\n",
    "from win32com.universal import com_error"
   ],
   "outputs": [],
   "execution_count": 7
  },
  {
   "metadata": {
    "jupyter": {
     "is_executing": true
    }
   },
   "cell_type": "code",
   "source": "sheet_result = 'Зона 2'",
   "id": "60e54f630727b857",
   "outputs": [],
   "execution_count": null
  },
  {
   "metadata": {},
   "cell_type": "code",
   "source": [
    "sheet_autocad = xw.sheets['Ведомость ОРМ']\n",
    "taxation_list_orm_df = sheet_autocad.range('A1').expand().options(pd.DataFrame, header=1, index=False).value\n",
    "taxation_list_orm_df['Позиция номера'] = taxation_list_orm_df['Позиция номера'].apply(lambda x: loads(x))\n",
    "taxation_list_orm_df['Геометрия'] = taxation_list_orm_df['Геометрия'].apply(lambda x: loads(x))\n",
    "\n",
    "taxation_list_orm_df"
   ],
   "id": "29bb0dcf8686b10f",
   "outputs": [],
   "execution_count": null
  },
  {
   "metadata": {},
   "cell_type": "code",
   "source": [
    "sheet_zones = xw.sheets['Зоны']\n",
    "zones_df = sheet_zones.range('A1').expand().options(pd.DataFrame, header=1, index=False).value\n",
    "\n",
    "zones_df"
   ],
   "id": "ec976f34f4a0a642",
   "outputs": [],
   "execution_count": null
  },
  {
   "metadata": {},
   "cell_type": "code",
   "source": [
    "zone_names = zones_df['Наименование'].tolist()\n",
    "zone_names.remove(sheet_result)\n",
    "\n",
    "zone_names"
   ],
   "id": "5353b69179fc1fb0",
   "outputs": [],
   "execution_count": null
  },
  {
   "metadata": {},
   "cell_type": "code",
   "source": [
    "used_split_numbers_df = pd.DataFrame(columns=['Исх.номер', 'Список геометрии'])\n",
    "\n",
    "for zone_name in zone_names:\n",
    "    try:\n",
    "        sheet_zone = xw.sheets[zone_name]\n",
    "    except com_error:\n",
    "        continue\n",
    "    if sheet_zone.range('A1').value is None:\n",
    "        continue\n",
    "    _used_split_numbers_df = sheet_zone.range('A1').expand().options(pd.DataFrame, header=1, index=False).value[\n",
    "        ['Исх.номер', 'Геометрия']]\n",
    "    _used_split_numbers_df['Геометрия'] = _used_split_numbers_df['Геометрия'].apply(lambda x: loads(x))\n",
    "    used_split_numbers_df = pd.concat([used_split_numbers_df, _used_split_numbers_df])\n",
    "\n",
    "if len(used_split_numbers_df) != 0:\n",
    "    used_split_numbers_df['type'] = used_split_numbers_df['Геометрия'].apply(lambda x: isinstance(x, Point))\n",
    "    used_split_numbers = used_split_numbers_df[used_split_numbers_df['type']]['Исх.номер'].tolist()\n",
    "else:\n",
    "    used_split_numbers = []\n",
    "\n",
    "used_split_numbers"
   ],
   "id": "dfe99d6663d64183",
   "outputs": [],
   "execution_count": null
  },
  {
   "metadata": {},
   "cell_type": "code",
   "source": [
    "taxation_list_orm_df_not_used = taxation_list_orm_df[~taxation_list_orm_df['Номер точки'].isin(used_split_numbers)]\n",
    "\n",
    "taxation_list_orm_df_not_used"
   ],
   "id": "db13825e0624434b",
   "outputs": [],
   "execution_count": null
  },
  {
   "metadata": {},
   "cell_type": "code",
   "source": [
    "zone_shape = loads(zones_df[zones_df['Наименование'] == sheet_result]['Геометрия'].tolist()[0])\n",
    "\n",
    "zone_shape"
   ],
   "id": "a45c4460edf8baa5",
   "outputs": [],
   "execution_count": null
  },
  {
   "metadata": {},
   "cell_type": "code",
   "source": [
    "def get_size_text(geometry: Point | Polygon | MultiPolygon | LineString | MultiLineString, quantity: str) -> str:\n",
    "    if isinstance(geometry, Polygon) or isinstance(geometry, MultiPolygon):\n",
    "        return f\"{round(geometry.area, 1)} м.кв.\"\n",
    "    elif isinstance(geometry, LineString) or isinstance(geometry, MultiLineString):\n",
    "        return f\"{round(geometry.length, 1)} м.п.\"\n",
    "    else:\n",
    "        try:\n",
    "            assert int(quantity)%1 == 0\n",
    "            return str(int(float(quantity)))\n",
    "        except:\n",
    "            return quantity"
   ],
   "id": "bddaad929c7d211f",
   "outputs": [],
   "execution_count": null
  },
  {
   "metadata": {},
   "cell_type": "code",
   "source": [
    "intersections_shapes = []\n",
    "for _, series in taxation_list_orm_df_not_used.iterrows():\n",
    "    geometry = series['Геометрия']\n",
    "    intersection = zone_shape.intersection(geometry)\n",
    "    if intersection:\n",
    "        if isinstance(intersection, Point) or isinstance(intersection, Polygon) or isinstance(intersection, LineString):\n",
    "            intersections_shapes.append({\n",
    "                'Исх.номер': series['Номер точки'],\n",
    "                'Номер': None,\n",
    "                'Наименование': series['Наименование'],\n",
    "                'Количество': get_size_text(intersection, series['Количество']),\n",
    "                'Высота': series['Высота'],\n",
    "                'Толщина': series['Толщина'],\n",
    "                'Состояние': series['Состояние'],\n",
    "                'Кустарник': series['Кустарник'],\n",
    "                'Позиция номера': intersection.centroid,\n",
    "                'Геометрия': intersection\n",
    "            })\n",
    "        elif isinstance(intersection, MultiPolygon) or isinstance(intersection, MultiLineString):\n",
    "            number_suffix = 0\n",
    "            for intersection_part in intersection.geoms:\n",
    "                number_suffix += 1\n",
    "                intersections_shapes.append({\n",
    "                    'Исх.номер': series['Номер точки']+'_'+str(number_suffix),\n",
    "                    'Номер': None,\n",
    "                    'Наименование': series['Наименование'],\n",
    "                    'Количество': get_size_text(intersection_part, series['Количество']),\n",
    "                    'Высота': series['Высота'],\n",
    "                    'Толщина': series['Толщина'],\n",
    "                    'Состояние': series['Состояние'],\n",
    "                    'Кустарник': series['Кустарник'],\n",
    "                    'Позиция номера': intersection_part.centroid,\n",
    "                    'Геометрия': intersection_part\n",
    "                })\n",
    "\n",
    "intersections_shapes_df = pd.DataFrame(intersections_shapes)\n",
    "\n",
    "intersections_shapes_df"
   ],
   "id": "24b81f587b601ba9",
   "outputs": [],
   "execution_count": null
  },
  {
   "metadata": {},
   "cell_type": "code",
   "source": [
    "sheet = xw.sheets[sheet_result]\n",
    "for l in ['A', 'B']:\n",
    "    sheet[f'{l}:{l}'].number_format = '@'\n",
    "sheet.range('A1').value = intersections_shapes_df\n",
    "sheet[\"A1\"].value = ['index']"
   ],
   "id": "e71c783b8aeb068e",
   "outputs": [],
   "execution_count": null
  },
  {
   "metadata": {
    "ExecuteTime": {
     "end_time": "2025-01-14T13:24:48.879701Z",
     "start_time": "2025-01-14T13:24:48.860862Z"
    }
   },
   "cell_type": "code",
   "source": [
    "\n",
    "selected_cells = xw.apps.active.selection\n",
    "print(\"get selections\")\n",
    "active_sheet = xw.sheets.active\n",
    "rows = active_sheet.api.Rows\n",
    "print(\"get rows\")"
   ],
   "id": "88edb186e6875d81",
   "outputs": [
    {
     "name": "stdout",
     "output_type": "stream",
     "text": [
      "get selections\n",
      "get rows\n"
     ]
    }
   ],
   "execution_count": 17
  },
  {
   "metadata": {
    "ExecuteTime": {
     "end_time": "2025-01-14T13:23:55.161253Z",
     "start_time": "2025-01-14T13:23:54.907718Z"
    }
   },
   "cell_type": "code",
   "source": "pd.Series(rows)",
   "id": "dad23ae8edbe8399",
   "outputs": [
    {
     "ename": "com_error",
     "evalue": "(-2147352570, 'Неизвестное имя.', None, None)",
     "output_type": "error",
     "traceback": [
      "\u001B[1;31m---------------------------------------------------------------------------\u001B[0m",
      "\u001B[1;31mAttributeError\u001B[0m                            Traceback (most recent call last)",
      "File \u001B[1;32mC:\\Projects\\TaxationTool\\venv\\Lib\\site-packages\\xlwings\\_xlwindows.py:199\u001B[0m, in \u001B[0;36mCOMRetryObjectWrapper.__getattr__\u001B[1;34m(self, item)\u001B[0m\n\u001B[0;32m    198\u001B[0m \u001B[38;5;28;01mtry\u001B[39;00m:\n\u001B[1;32m--> 199\u001B[0m     v \u001B[38;5;241m=\u001B[39m \u001B[38;5;28mgetattr\u001B[39m(\u001B[38;5;28mself\u001B[39m\u001B[38;5;241m.\u001B[39m_inner, item)\n\u001B[0;32m    200\u001B[0m     \u001B[38;5;28;01mif\u001B[39;00m \u001B[38;5;28misinstance\u001B[39m(v, (CDispatch, CoClassBaseClass, DispatchBaseClass)):\n",
      "File \u001B[1;32mC:\\Projects\\TaxationTool\\venv\\Lib\\site-packages\\win32com\\client\\dynamic.py:629\u001B[0m, in \u001B[0;36mCDispatch.__getattr__\u001B[1;34m(self, attr)\u001B[0m\n\u001B[0;32m    628\u001B[0m \u001B[38;5;66;03m# no where else to look.\u001B[39;00m\n\u001B[1;32m--> 629\u001B[0m \u001B[38;5;28;01mraise\u001B[39;00m \u001B[38;5;167;01mAttributeError\u001B[39;00m(\u001B[38;5;124mf\u001B[39m\u001B[38;5;124m\"\u001B[39m\u001B[38;5;132;01m{\u001B[39;00m\u001B[38;5;28mself\u001B[39m\u001B[38;5;241m.\u001B[39m_username_\u001B[38;5;132;01m}\u001B[39;00m\u001B[38;5;124m.\u001B[39m\u001B[38;5;132;01m{\u001B[39;00mattr\u001B[38;5;132;01m}\u001B[39;00m\u001B[38;5;124m\"\u001B[39m)\n",
      "\u001B[1;31mAttributeError\u001B[0m: <unknown>.dtype",
      "\nDuring handling of the above exception, another exception occurred:\n",
      "\u001B[1;31mcom_error\u001B[0m                                 Traceback (most recent call last)",
      "Cell \u001B[1;32mIn[16], line 1\u001B[0m\n\u001B[1;32m----> 1\u001B[0m \u001B[43mpd\u001B[49m\u001B[38;5;241;43m.\u001B[39;49m\u001B[43mSeries\u001B[49m\u001B[43m(\u001B[49m\u001B[43mrows\u001B[49m\u001B[43m)\u001B[49m\n",
      "File \u001B[1;32mC:\\Projects\\TaxationTool\\venv\\Lib\\site-packages\\pandas\\core\\series.py:436\u001B[0m, in \u001B[0;36mSeries.__init__\u001B[1;34m(self, data, index, dtype, name, copy, fastpath)\u001B[0m\n\u001B[0;32m    433\u001B[0m     \u001B[38;5;28;01mreturn\u001B[39;00m\n\u001B[0;32m    435\u001B[0m is_pandas_object \u001B[38;5;241m=\u001B[39m \u001B[38;5;28misinstance\u001B[39m(data, (Series, Index, ExtensionArray))\n\u001B[1;32m--> 436\u001B[0m data_dtype \u001B[38;5;241m=\u001B[39m \u001B[38;5;28;43mgetattr\u001B[39;49m\u001B[43m(\u001B[49m\u001B[43mdata\u001B[49m\u001B[43m,\u001B[49m\u001B[43m \u001B[49m\u001B[38;5;124;43m\"\u001B[39;49m\u001B[38;5;124;43mdtype\u001B[39;49m\u001B[38;5;124;43m\"\u001B[39;49m\u001B[43m,\u001B[49m\u001B[43m \u001B[49m\u001B[38;5;28;43;01mNone\u001B[39;49;00m\u001B[43m)\u001B[49m\n\u001B[0;32m    437\u001B[0m original_dtype \u001B[38;5;241m=\u001B[39m dtype\n\u001B[0;32m    439\u001B[0m \u001B[38;5;28;01mif\u001B[39;00m \u001B[38;5;28misinstance\u001B[39m(data, (ExtensionArray, np\u001B[38;5;241m.\u001B[39mndarray)):\n",
      "File \u001B[1;32mC:\\Projects\\TaxationTool\\venv\\Lib\\site-packages\\xlwings\\_xlwindows.py:221\u001B[0m, in \u001B[0;36mCOMRetryObjectWrapper.__getattr__\u001B[1;34m(self, item)\u001B[0m\n\u001B[0;32m    214\u001B[0m \u001B[38;5;28;01mexcept\u001B[39;00m \u001B[38;5;167;01mAttributeError\u001B[39;00m:\n\u001B[0;32m    215\u001B[0m     \u001B[38;5;66;03m# pywin32 reacts incorrectly to RPC_E_CALL_REJECTED (i.e. assumes\u001B[39;00m\n\u001B[0;32m    216\u001B[0m     \u001B[38;5;66;03m# attribute doesn't exist, thus not allowing to distinguish between\u001B[39;00m\n\u001B[0;32m    217\u001B[0m     \u001B[38;5;66;03m# cases where attribute really doesn't exist or error is only being\u001B[39;00m\n\u001B[0;32m    218\u001B[0m     \u001B[38;5;66;03m# thrown because the COM RPC server is busy). Here we try to test to\u001B[39;00m\n\u001B[0;32m    219\u001B[0m     \u001B[38;5;66;03m# see what's going on really\u001B[39;00m\n\u001B[0;32m    220\u001B[0m     \u001B[38;5;28;01mtry\u001B[39;00m:\n\u001B[1;32m--> 221\u001B[0m         \u001B[38;5;28;43mself\u001B[39;49m\u001B[38;5;241;43m.\u001B[39;49m\u001B[43m_oleobj_\u001B[49m\u001B[38;5;241;43m.\u001B[39;49m\u001B[43mGetIDsOfNames\u001B[49m\u001B[43m(\u001B[49m\u001B[38;5;241;43m0\u001B[39;49m\u001B[43m,\u001B[49m\u001B[43m \u001B[49m\u001B[43mitem\u001B[49m\u001B[43m)\u001B[49m\n\u001B[0;32m    222\u001B[0m     \u001B[38;5;28;01mexcept\u001B[39;00m pythoncom\u001B[38;5;241m.\u001B[39mole_error \u001B[38;5;28;01mas\u001B[39;00m e:\n\u001B[0;32m    223\u001B[0m         \u001B[38;5;28;01mif\u001B[39;00m e\u001B[38;5;241m.\u001B[39mhresult \u001B[38;5;241m!=\u001B[39m \u001B[38;5;241m-\u001B[39m\u001B[38;5;241m2147418111\u001B[39m:  \u001B[38;5;66;03m# RPC_E_CALL_REJECTED\u001B[39;00m\n\u001B[0;32m    224\u001B[0m             \u001B[38;5;66;03m# attribute probably really doesn't exist\u001B[39;00m\n",
      "\u001B[1;31mcom_error\u001B[0m: (-2147352570, 'Неизвестное имя.', None, None)"
     ]
    }
   ],
   "execution_count": 16
  },
  {
   "metadata": {
    "ExecuteTime": {
     "end_time": "2025-01-14T13:23:51.208885Z",
     "start_time": "2025-01-14T13:22:30.244342Z"
    }
   },
   "cell_type": "code",
   "source": [
    "hidden_rows = {row.Index for row in rows if row.Hidden}\n",
    "print(\"get hidden rows\")"
   ],
   "id": "d9779de1a2d73269",
   "outputs": [
    {
     "ename": "KeyboardInterrupt",
     "evalue": "",
     "output_type": "error",
     "traceback": [
      "\u001B[1;31m---------------------------------------------------------------------------\u001B[0m",
      "\u001B[1;31mKeyboardInterrupt\u001B[0m                         Traceback (most recent call last)",
      "Cell \u001B[1;32mIn[15], line 1\u001B[0m\n\u001B[1;32m----> 1\u001B[0m hidden_rows \u001B[38;5;241m=\u001B[39m \u001B[43m{\u001B[49m\u001B[43mrow\u001B[49m\u001B[38;5;241;43m.\u001B[39;49m\u001B[43mIndex\u001B[49m\u001B[43m \u001B[49m\u001B[38;5;28;43;01mfor\u001B[39;49;00m\u001B[43m \u001B[49m\u001B[43mrow\u001B[49m\u001B[43m \u001B[49m\u001B[38;5;129;43;01min\u001B[39;49;00m\u001B[43m \u001B[49m\u001B[43mrows\u001B[49m\u001B[43m \u001B[49m\u001B[38;5;28;43;01mif\u001B[39;49;00m\u001B[43m \u001B[49m\u001B[43mrow\u001B[49m\u001B[38;5;241;43m.\u001B[39;49m\u001B[43mHidden\u001B[49m\u001B[43m}\u001B[49m\n\u001B[0;32m      2\u001B[0m \u001B[38;5;28mprint\u001B[39m(\u001B[38;5;124m\"\u001B[39m\u001B[38;5;124mget hidden rows\u001B[39m\u001B[38;5;124m\"\u001B[39m)\n",
      "Cell \u001B[1;32mIn[15], line 1\u001B[0m, in \u001B[0;36m<setcomp>\u001B[1;34m(.0)\u001B[0m\n\u001B[1;32m----> 1\u001B[0m hidden_rows \u001B[38;5;241m=\u001B[39m {row\u001B[38;5;241m.\u001B[39mIndex \u001B[38;5;28;01mfor\u001B[39;00m row \u001B[38;5;129;01min\u001B[39;00m rows \u001B[38;5;28;01mif\u001B[39;00m \u001B[43mrow\u001B[49m\u001B[38;5;241;43m.\u001B[39;49m\u001B[43mHidden\u001B[49m}\n\u001B[0;32m      2\u001B[0m \u001B[38;5;28mprint\u001B[39m(\u001B[38;5;124m\"\u001B[39m\u001B[38;5;124mget hidden rows\u001B[39m\u001B[38;5;124m\"\u001B[39m)\n",
      "File \u001B[1;32mC:\\Projects\\TaxationTool\\venv\\Lib\\site-packages\\xlwings\\_xlwindows.py:199\u001B[0m, in \u001B[0;36mCOMRetryObjectWrapper.__getattr__\u001B[1;34m(self, item)\u001B[0m\n\u001B[0;32m    197\u001B[0m \u001B[38;5;28;01mwhile\u001B[39;00m \u001B[38;5;28;01mTrue\u001B[39;00m:\n\u001B[0;32m    198\u001B[0m     \u001B[38;5;28;01mtry\u001B[39;00m:\n\u001B[1;32m--> 199\u001B[0m         v \u001B[38;5;241m=\u001B[39m \u001B[38;5;28mgetattr\u001B[39m(\u001B[38;5;28mself\u001B[39m\u001B[38;5;241m.\u001B[39m_inner, item)\n\u001B[0;32m    200\u001B[0m         \u001B[38;5;28;01mif\u001B[39;00m \u001B[38;5;28misinstance\u001B[39m(v, (CDispatch, CoClassBaseClass, DispatchBaseClass)):\n\u001B[0;32m    201\u001B[0m             \u001B[38;5;28;01mreturn\u001B[39;00m COMRetryObjectWrapper(v)\n",
      "File \u001B[1;32mC:\\Projects\\TaxationTool\\venv\\Lib\\site-packages\\win32com\\client\\dynamic.py:618\u001B[0m, in \u001B[0;36mCDispatch.__getattr__\u001B[1;34m(self, attr)\u001B[0m\n\u001B[0;32m    614\u001B[0m debug_attr_print(\n\u001B[0;32m    615\u001B[0m     \u001B[38;5;124m\"\u001B[39m\u001B[38;5;124mGetting property Id 0x\u001B[39m\u001B[38;5;132;01m%x\u001B[39;00m\u001B[38;5;124m from OLE object\u001B[39m\u001B[38;5;124m\"\u001B[39m \u001B[38;5;241m%\u001B[39m retEntry\u001B[38;5;241m.\u001B[39mdispid\n\u001B[0;32m    616\u001B[0m )\n\u001B[0;32m    617\u001B[0m \u001B[38;5;28;01mtry\u001B[39;00m:\n\u001B[1;32m--> 618\u001B[0m     ret \u001B[38;5;241m=\u001B[39m \u001B[38;5;28;43mself\u001B[39;49m\u001B[38;5;241;43m.\u001B[39;49m\u001B[43m_oleobj_\u001B[49m\u001B[38;5;241;43m.\u001B[39;49m\u001B[43mInvoke\u001B[49m\u001B[43m(\u001B[49m\u001B[43mretEntry\u001B[49m\u001B[38;5;241;43m.\u001B[39;49m\u001B[43mdispid\u001B[49m\u001B[43m,\u001B[49m\u001B[43m \u001B[49m\u001B[38;5;241;43m0\u001B[39;49m\u001B[43m,\u001B[49m\u001B[43m \u001B[49m\u001B[43minvoke_type\u001B[49m\u001B[43m,\u001B[49m\u001B[43m \u001B[49m\u001B[38;5;241;43m1\u001B[39;49m\u001B[43m)\u001B[49m\n\u001B[0;32m    619\u001B[0m \u001B[38;5;28;01mexcept\u001B[39;00m pythoncom\u001B[38;5;241m.\u001B[39mcom_error \u001B[38;5;28;01mas\u001B[39;00m details:\n\u001B[0;32m    620\u001B[0m     \u001B[38;5;28;01mif\u001B[39;00m details\u001B[38;5;241m.\u001B[39mhresult \u001B[38;5;129;01min\u001B[39;00m ERRORS_BAD_CONTEXT:\n\u001B[0;32m    621\u001B[0m         \u001B[38;5;66;03m# May be a method.\u001B[39;00m\n",
      "\u001B[1;31mKeyboardInterrupt\u001B[0m: "
     ]
    }
   ],
   "execution_count": 15
  },
  {
   "metadata": {},
   "cell_type": "code",
   "outputs": [],
   "execution_count": null,
   "source": [
    "not_hidden_cells = [\n",
    "            cell for cell in selected_cells if cell.row not in hidden_rows\n",
    "        ]\n",
    "not_hidden_cells"
   ],
   "id": "f3111962be02df6c"
  }
 ],
 "metadata": {
  "kernelspec": {
   "display_name": "Python 3",
   "language": "python",
   "name": "python3"
  },
  "language_info": {
   "codemirror_mode": {
    "name": "ipython",
    "version": 2
   },
   "file_extension": ".py",
   "mimetype": "text/x-python",
   "name": "python",
   "nbconvert_exporter": "python",
   "pygments_lexer": "ipython2",
   "version": "2.7.6"
  }
 },
 "nbformat": 4,
 "nbformat_minor": 5
}
