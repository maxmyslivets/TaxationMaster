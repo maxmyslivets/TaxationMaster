{
 "cells": [
  {
   "cell_type": "code",
   "id": "initial_id",
   "metadata": {
    "collapsed": true,
    "ExecuteTime": {
     "end_time": "2024-11-05T20:15:35.274872Z",
     "start_time": "2024-11-05T20:15:35.270394Z"
    }
   },
   "source": [
    "from typing import Union\n",
    "import ezdxf\n",
    "from ezdxf.entities import Text, MText, Line, LWPolyline\n",
    "from shapely.geometry import Point, LineString, Polygon, MultiPolygon\n",
    "from shapely.ops import unary_union\n",
    "from pathlib import Path\n",
    "from itertools import chain"
   ],
   "outputs": [],
   "execution_count": 154
  },
  {
   "metadata": {
    "ExecuteTime": {
     "end_time": "2024-11-05T20:44:26.349670Z",
     "start_time": "2024-11-05T20:44:26.345779Z"
    }
   },
   "cell_type": "code",
   "source": [
    "class TaxationObject:\n",
    "    def __init__(self, number: str, shape: Union[Point, LineString, Polygon]):\n",
    "        self.number = number\n",
    "        self.shape = shape\n",
    "    def __repr__(self) -> str:\n",
    "        return f\"TaxationObject({self.number}, {self.shape})\"\n",
    "\n",
    "\n",
    "class TaxationCollection:\n",
    "    trees: list[TaxationObject]\n",
    "    lines: list[TaxationObject]\n",
    "    contours: list[TaxationObject]\n",
    "    zones: list[TaxationObject]\n",
    "    def __init__(self) -> None:\n",
    "        self.trees = list()\n",
    "        self.lines = list()\n",
    "        self.contours = list()\n",
    "        self.zones = list()"
   ],
   "id": "bf86aa78a32cf17e",
   "outputs": [],
   "execution_count": 187
  },
  {
   "metadata": {
    "ExecuteTime": {
     "end_time": "2024-11-05T21:33:43.558260Z",
     "start_time": "2024-11-05T21:33:43.543554Z"
    }
   },
   "cell_type": "code",
   "source": [
    "def extract_data_from_taxation_plan(file_path: Path,\n",
    "                                    numbers_layers: list[str] = [\"номера\"],\n",
    "                                    lines_layers: list[str] = [\"полосы\"],\n",
    "                                    contours_layers: list[str] = [\"контуры\"],\n",
    "                                    zones_layers: list[str] = [\"зоны\"]) -> tuple[list, list, list, list]:\n",
    "    \"\"\"\n",
    "    Извлечение данных из чертежа таксации\n",
    "    :param file_path: путь к файлу\n",
    "    :param numbers_layers: слои с номерами\n",
    "    :param lines_layers: слои с линиями\n",
    "    :param contours_layers: слои с контурами\n",
    "    :param zones_layers: слои с зонами\n",
    "    :return: список объектов\n",
    "    \"\"\"\n",
    "\n",
    "    doc = ezdxf.readfile(file_path)\n",
    "\n",
    "    numbers, lines, contours, zones = [], [], [], []\n",
    "\n",
    "    for entity in doc.modelspace():\n",
    "\n",
    "        if isinstance(entity, Text) and entity.dxf.layer in numbers_layers:\n",
    "            numbers.append(entity)\n",
    "        elif isinstance(entity, MText) and entity.dxf.layer in numbers_layers:\n",
    "            numbers.append(entity)\n",
    "\n",
    "        elif isinstance(entity, LWPolyline) and entity.dxf.layer in lines_layers:\n",
    "            lines.append(entity)\n",
    "        elif isinstance(entity, Line) and entity.dxf.layer in lines_layers:\n",
    "            lines.append(entity)\n",
    "\n",
    "        elif isinstance(entity, LWPolyline) and entity.dxf.layer in contours_layers:\n",
    "            contours.append(entity)\n",
    "\n",
    "        elif isinstance(entity, LWPolyline) and entity.dxf.layer in zones_layers:\n",
    "            zones.append(entity)\n",
    "        elif isinstance(entity, MText) and entity.dxf.layer in zones_layers:\n",
    "            zones.append(entity)\n",
    "        elif isinstance(entity, Text) and entity.dxf.layer in zones_layers:\n",
    "            zones.append(entity)\n",
    "\n",
    "    return numbers, lines, contours, zones\n",
    "\n",
    "\n",
    "def correcting_data_from_taxation_plan(numbers: list, lines: list, contours: list, zones: list):\n",
    "    \"\"\"Метод для коррекции номеров\"\"\"\n",
    "\n",
    "    taxation_collection_temp = TaxationCollection()\n",
    "    taxation_collection = TaxationCollection()\n",
    "    \n",
    "    zone_names = []\n",
    "    zones_temp = []\n",
    "    for zone in zones:\n",
    "        if isinstance(zone, LWPolyline):\n",
    "            zones_temp.append(Polygon([(float(x), float(y)) for x, y in list(zone.vertices())]))\n",
    "        if isinstance(zone, Text) or isinstance(zone, MText):\n",
    "            number = zone.plain_text()\n",
    "            x, y = zone.dxf.insert[0], zone.dxf.insert[1]\n",
    "            zone_names.append(TaxationObject(number, Point(x, y)))\n",
    "    zone_chunks = {}\n",
    "    for zone_name in zone_names:\n",
    "        if zone_name.number not in zone_chunks.keys():\n",
    "            zone_chunks[zone_name.number] = []\n",
    "        for polygon in zones_temp:\n",
    "            if zone_name.shape.distance(polygon.exterior) < 0.01:\n",
    "                zone_chunks[zone_name.number].append(polygon)\n",
    "    for name, polygons in zone_chunks.items():\n",
    "        taxation_collection.zones.append(TaxationObject(name, unary_union(polygons)))\n",
    "\n",
    "    for text in numbers:\n",
    "        number = text.plain_text().replace('\\n', ' ') if isinstance(text, MText) else text.plain_text()\n",
    "        x, y = text.dxf.insert[0], text.dxf.insert[1]\n",
    "        taxation_collection_temp.trees.append(TaxationObject(number, Point(x, y)))\n",
    "\n",
    "    for line in lines:\n",
    "        if isinstance(line, LWPolyline):\n",
    "            coordinates = [(float(x), float(y)) for x, y in list(line.vertices())]\n",
    "            taxation_collection_temp.lines.append(TaxationObject(None, LineString(coordinates)))\n",
    "        if isinstance(line, Line):\n",
    "            coordinates = [(line.dxf.start.x, line.dxf.start.y), (line.dxf.end.x, line.dxf.end.y)]\n",
    "            taxation_collection_temp.lines.append(TaxationObject(None, LineString(coordinates)))\n",
    "\n",
    "    for contour in contours:\n",
    "        taxation_collection_temp.contours.append(\n",
    "            TaxationObject(None, Polygon([(float(x), float(y)) for x, y in list(contour.vertices())]))\n",
    "        )\n",
    "\n",
    "    for number in taxation_collection_temp.trees:\n",
    "        for line in taxation_collection_temp.lines:\n",
    "            if line.shape.distance(number.shape) < 0.01:\n",
    "                line_ = TaxationObject(number.number, line.shape)\n",
    "                taxation_collection.lines.append(line_)\n",
    "                break\n",
    "        for polygon in taxation_collection_temp.contours:\n",
    "            if number.shape.distance(polygon.shape.exterior) < 0.01:\n",
    "                polygon_ = TaxationObject(number.number, polygon.shape)\n",
    "                taxation_collection.contours.append(polygon_)\n",
    "                break\n",
    "    \n",
    "    all_numbers = set([_.number for _ in taxation_collection_temp.trees])\n",
    "    shapes_numbers = set([_.number for _ in chain(taxation_collection.lines, taxation_collection.contours)])\n",
    "    numbers_of_trees = all_numbers - shapes_numbers\n",
    "    \n",
    "    for number in taxation_collection_temp.trees:\n",
    "        if number.number in numbers_of_trees:\n",
    "            taxation_collection.trees.append(number)\n",
    "    \n",
    "    # return data\n"
   ],
   "id": "39c768186ac215a0",
   "outputs": [],
   "execution_count": 257
  },
  {
   "metadata": {
    "ExecuteTime": {
     "end_time": "2024-11-05T21:33:46.469536Z",
     "start_time": "2024-11-05T21:33:46.413328Z"
    }
   },
   "cell_type": "code",
   "source": [
    "dxf_data = extract_data_from_taxation_plan(\"test.dxf\")\n",
    "result = correcting_data_from_taxation_plan(*dxf_data)\n",
    "result"
   ],
   "id": "a4eb9e8c8f5d3cb3",
   "outputs": [
    {
     "name": "stdout",
     "output_type": "stream",
     "text": [
      "POINT (3107.833576206881 1699.2162632150503)\n"
     ]
    }
   ],
   "execution_count": 258
  },
  {
   "metadata": {
    "ExecuteTime": {
     "end_time": "2024-11-05T19:23:04.278604Z",
     "start_time": "2024-11-05T19:23:04.273999Z"
    }
   },
   "cell_type": "code",
   "source": [
    "l = LineString([(1,1), (2,2), (1,2)])\n",
    "p = Point(1.5145,2.094)\n",
    "l.distance(p)"
   ],
   "id": "d204493f83b2d15f",
   "outputs": [
    {
     "data": {
      "text/plain": [
       "0.09399999999999986"
      ]
     },
     "execution_count": 76,
     "metadata": {},
     "output_type": "execute_result"
    }
   ],
   "execution_count": 76
  }
 ],
 "metadata": {
  "kernelspec": {
   "display_name": "Python 3",
   "language": "python",
   "name": "python3"
  },
  "language_info": {
   "codemirror_mode": {
    "name": "ipython",
    "version": 2
   },
   "file_extension": ".py",
   "mimetype": "text/x-python",
   "name": "python",
   "nbconvert_exporter": "python",
   "pygments_lexer": "ipython2",
   "version": "2.7.6"
  }
 },
 "nbformat": 4,
 "nbformat_minor": 5
}
